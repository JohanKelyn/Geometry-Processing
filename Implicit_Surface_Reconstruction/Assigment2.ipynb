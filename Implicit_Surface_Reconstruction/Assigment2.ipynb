{
 "cells": [
  {
   "cell_type": "code",
   "execution_count": 1,
   "metadata": {
    "scrolled": true
   },
   "outputs": [],
   "source": [
    "import numpy as np\n",
    "import igl\n",
    "import meshplot as mp"
   ]
  },
  {
   "cell_type": "code",
   "execution_count": 2,
   "metadata": {
    "scrolled": true
   },
   "outputs": [],
   "source": [
    "# Utility function to generate a tet grid\n",
    "# n is a 3-tuple with the number of cell in every direction\n",
    "# mmin/mmax are the grid bounding box corners\n",
    "\n",
    "def tet_grid(n, mmin, mmax):\n",
    "    nx = n[0]\n",
    "    ny = n[1]\n",
    "    nz = n[2]\n",
    "    \n",
    "    delta = mmax-mmin\n",
    "    \n",
    "    deltax = delta[0]/(nx-1)\n",
    "    deltay = delta[1]/(ny-1)\n",
    "    deltaz = delta[2]/(nz-1)\n",
    "    \n",
    "    T = np.zeros(((nx-1)*(ny-1)*(nz-1)*6, 4), dtype=np.int64)\n",
    "    V = np.zeros((nx*ny*nz, 3))\n",
    "\n",
    "    mapping = -np.ones((nx, ny, nz), dtype=np.int64)\n",
    "\n",
    "\n",
    "    index = 0\n",
    "    for i in range(nx):\n",
    "        for j in range(ny):\n",
    "            for k in range(nz):\n",
    "                mapping[i, j, k] = index\n",
    "                V[index, :] = [i*deltax, j*deltay, k*deltaz]\n",
    "                index += 1\n",
    "    assert(index == V.shape[0])\n",
    "    \n",
    "    tets = np.array([\n",
    "        [0,1,3,4],\n",
    "        [5,2,6,7],\n",
    "        [4,1,5,3],\n",
    "        [4,3,7,5],\n",
    "        [3,1,5,2],\n",
    "        [2,3,7,5]\n",
    "    ])\n",
    "    \n",
    "    index = 0\n",
    "    for i in range(nx-1):\n",
    "        for j in range(ny-1):\n",
    "            for k in range(nz-1):\n",
    "                indices = [\n",
    "                    (i,   j,   k),\n",
    "                    (i+1, j,   k),\n",
    "                    (i+1, j+1, k),\n",
    "                    (i,   j+1, k),\n",
    "\n",
    "                    (i,   j,   k+1),\n",
    "                    (i+1, j,   k+1),\n",
    "                    (i+1, j+1, k+1),\n",
    "                    (i,   j+1, k+1),\n",
    "                ]\n",
    "                \n",
    "                for t in range(tets.shape[0]):\n",
    "                    tmp = [mapping[indices[ii]] for ii in tets[t, :]]\n",
    "                    T[index, :]=tmp\n",
    "                    index += 1\n",
    "                    \n",
    "    assert(index == T.shape[0])\n",
    "    \n",
    "    V += mmin\n",
    "    return V, T"
   ]
  },
  {
   "cell_type": "markdown",
   "metadata": {},
   "source": [
    "# Reading point cloud"
   ]
  },
  {
   "cell_type": "code",
   "execution_count": 3,
   "metadata": {},
   "outputs": [
    {
     "name": "stdout",
     "output_type": "stream",
     "text": [
      "<class 'numpy.ndarray'>\n"
     ]
    },
    {
     "data": {
      "application/vnd.jupyter.widget-view+json": {
       "model_id": "2d9408fc2bf84905be0f6329a2617dfb",
       "version_major": 2,
       "version_minor": 0
      },
      "text/plain": [
       "Renderer(camera=PerspectiveCamera(children=(DirectionalLight(color='white', intensity=0.6, position=(5.0, -23.…"
      ]
     },
     "metadata": {},
     "output_type": "display_data"
    },
    {
     "data": {
      "text/plain": [
       "<meshplot.Viewer.Viewer at 0x7fc247af66d0>"
      ]
     },
     "execution_count": 3,
     "metadata": {},
     "output_type": "execute_result"
    }
   ],
   "source": [
    "pi, v = igl.read_triangle_mesh(\"data/cat.off\")\n",
    "print(type(pi))\n",
    "pi /= 10\n",
    "ni = igl.per_vertex_normals(pi, v)\n",
    "mp.plot(pi, shading={\"point_size\": 8})"
   ]
  },
  {
   "cell_type": "markdown",
   "metadata": {},
   "source": [
    "# MLS function"
   ]
  },
  {
   "cell_type": "code",
   "execution_count": 4,
   "metadata": {
    "scrolled": true
   },
   "outputs": [],
   "source": [
    "# Creating the Aligned Bounding Box\n",
    "min_p = pi.min(axis=0)\n",
    "max_p = pi.max(axis=0)\n",
    "\n",
    "bbox_min = min_p\n",
    "bbox_max = max_p\n",
    "bbox_diag = np.linalg.norm(bbox_max - bbox_min) "
   ]
  },
  {
   "cell_type": "code",
   "execution_count": 5,
   "metadata": {
    "scrolled": true
   },
   "outputs": [],
   "source": [
    "# Generate grid n x n x n\n",
    "n = 30\n",
    "x, T = tet_grid((n, n, n), bbox_min - 0.05 * bbox_diag, bbox_max + 0.05 * bbox_diag)"
   ]
  },
  {
   "cell_type": "code",
   "execution_count": 6,
   "metadata": {},
   "outputs": [
    {
     "data": {
      "application/vnd.jupyter.widget-view+json": {
       "model_id": "fad0a2f3ba1949e0b200f108ed753576",
       "version_major": 2,
       "version_minor": 0
      },
      "text/plain": [
       "Renderer(camera=PerspectiveCamera(children=(DirectionalLight(color='white', intensity=0.6, position=(5.0, -23.…"
      ]
     },
     "metadata": {},
     "output_type": "display_data"
    },
    {
     "data": {
      "text/plain": [
       "2"
      ]
     },
     "execution_count": 6,
     "metadata": {},
     "output_type": "execute_result"
    }
   ],
   "source": [
    "pi_p = [] # list to hold the p+\n",
    "pi_m = [] # list to hold the p-\n",
    "eps = 0.01 * bbox_diag/2\n",
    "\n",
    "for i in range(len(pi)):\n",
    "    pi_p.append(pi[i] + eps * ni[i])\n",
    "    pi_m.append(pi[i] - eps * ni[i])\n",
    "\n",
    "# Conversion from list to numpy array\n",
    "pi_p = np.array(pi_p)\n",
    "pi_m = np.array(pi_m)\n",
    "\n",
    "# Array of constraint points\n",
    "c = np.concatenate((pi, pi_p, pi_m))\n",
    "\n",
    "# List of constraint values\n",
    "d = []\n",
    "n = len(pi)\n",
    "for i in range(3*n):\n",
    "    if (i < n):\n",
    "        d.append(0)\n",
    "    elif (i < 2*n):\n",
    "        d.append(eps)\n",
    "    else:\n",
    "        d.append(-eps)\n",
    "\n",
    "# Conversion from list to numpy array\n",
    "d = np.array(d)\n",
    "\n",
    "# Ploting constraint points\n",
    "p = mp.plot(pi, c='blue', shading={\"point_size\": 8})\n",
    "p.add_points(pi_p, c='red', shading={\"point_size\": 8})\n",
    "p.add_points(pi_m, c='green', shading={\"point_size\": 8})"
   ]
  },
  {
   "cell_type": "code",
   "execution_count": 7,
   "metadata": {},
   "outputs": [],
   "source": [
    "# Function to find closest point to constraint points\n",
    "def find_closest_point(point, points):\n",
    "    closest_index = -1\n",
    "    i = 0\n",
    "    closest_dist = float('inf')\n",
    "    for p in points:\n",
    "        if np.linalg.norm(p - point) < closest_dist:\n",
    "            closest_dist = np.linalg.norm(p - point)\n",
    "            closest_index = i\n",
    "        i = i + 1       \n",
    "    return closest_index\n",
    "\n",
    "# Function to find closest constraint points within wendlandRadius h\n",
    "def point_within_h(point, points, h):\n",
    "    indexes = []\n",
    "    for i in range(len(points)):\n",
    "        if np.linalg.norm(point - points[i]) < h:\n",
    "            indexes.append(i)\n",
    "    return indexes\n",
    "\n",
    "# Function to find closest constraint points within wendlandRadius h using Kd-Tree\n",
    "def point_within_h_2(point, root, h, indexes = []): \n",
    "    # This is a helper function\n",
    "    if (np.linalg.norm(point - root.point, 2) < h):\n",
    "        if (root.index not in indexes):\n",
    "            indexes.append(root.index)\n",
    "    axis = root.depth % 3\n",
    "    min_val = point[axis] - h\n",
    "    max_val = point[axis] + h\n",
    "    if (min_val < root.point[axis] and root.left != None):\n",
    "        point_within_h_2(point, root.left, h, indexes)\n",
    "    if (max_val >= root.point[axis] and root.right != None):\n",
    "        point_within_h_2(point, root.right, h, indexes)\n",
    "    return sorted(indexes)"
   ]
  },
  {
   "cell_type": "code",
   "execution_count": 8,
   "metadata": {},
   "outputs": [],
   "source": [
    "# Building a Kd-Tree\n",
    "\n",
    "class Node:\n",
    "    def __init__(self, point, index, depth):\n",
    "        self.left = None\n",
    "        self.right = None\n",
    "        self.point = point\n",
    "        self.index = index\n",
    "        self.depth = depth\n",
    "\n",
    "class KdTree:\n",
    "    def __init__(self):\n",
    "        self.root = None\n",
    "        self.nodes = []\n",
    "\n",
    "    def insert(self, point, index):\n",
    "        if self.root is None:\n",
    "            self.root = Node(point, index, 0)\n",
    "            self.nodes.append(self.root)\n",
    "        else:\n",
    "            self._insert(point, index, self.root, depth = 0)\n",
    "\n",
    "    def _insert(self, point, index, cur_node, depth):\n",
    "        axis = depth % 3\n",
    "        if point[axis] < cur_node.point[axis]:\n",
    "            if cur_node.left is None:\n",
    "                cur_node.left = Node(point, index, depth + 1)\n",
    "                self.nodes.append(cur_node.left)\n",
    "            else:\n",
    "                self._insert(point, index, cur_node.left, depth + 1)\n",
    "        else:\n",
    "            if cur_node.right is None:\n",
    "                cur_node.right = Node(point, index, depth + 1)\n",
    "                self.nodes.append(cur_node.right)\n",
    "            else:\n",
    "                self._insert(point, index, cur_node.right, depth + 1)\n",
    "                \n",
    "    def get_nodes(self):\n",
    "        return self.nodes\n"
   ]
  },
  {
   "cell_type": "code",
   "execution_count": 9,
   "metadata": {},
   "outputs": [],
   "source": [
    "# Function that return the basis polynomial functions\n",
    "def basis_poly(z, k = 1):\n",
    "    if k == 0:\n",
    "        basis_func = np.array([1])\n",
    "    elif k == 1:\n",
    "        basis_func = np.array([1,z[0],z[1],z[2]])\n",
    "    elif k == 2:\n",
    "        basis_func = np.array([1,z[0],z[1],z[2],z[0]*z[1], z[0]*z[2], z[1]*z[2], z[0]**2, z[1]**2, z[2]**2])\n",
    "    return basis_func\n",
    "\n",
    "# Function that calculates the Wendland weight \n",
    "def weight(r,h):\n",
    "    if (r < h):\n",
    "        return ((1 - r/h)**4)*(4*(r/h) + 1)\n",
    "    else:\n",
    "        return 0\n",
    "\n",
    "# Implicit MLS function\n",
    "def f(x, c, d, h, k = 1, method = 1, Tree = None):\n",
    "    if method == 1:\n",
    "        indexes = point_within_h(x, c, h)\n",
    "    if method == 2:\n",
    "        indexes = point_within_h_2(x, Tree.root, h, [])\n",
    "        \n",
    "    n = len(indexes)\n",
    "    coeffs = 3**k + 1 # Number of polynomial coefficients \n",
    "    \n",
    "    if(n < 2*coeffs):\n",
    "        return 100\n",
    "    else:\n",
    "        \n",
    "        B = np.zeros([n,coeffs])\n",
    "        W = np.eye(n)\n",
    "        constraint_points = c[indexes]\n",
    "        constraint_values = d[indexes]\n",
    "        \n",
    "        for i in range(n):\n",
    "            B[i,:] = basis_poly(constraint_points[i],k)\n",
    "            W[i,i] = weight(np.linalg.norm(x - constraint_points[i],2),h)\n",
    "\n",
    "        A = ((B.T).dot(W)).dot(B)\n",
    "        y = ((B.T).dot(W)).dot(constraint_values)\n",
    "        ax = np.linalg.solve(A,y)\n",
    "        return basis_poly(x,k).dot(ax) "
   ]
  },
  {
   "cell_type": "markdown",
   "metadata": {},
   "source": [
    "# Plot 1:\n",
    "\n",
    "* Non-Accelerating Structure\n",
    "* Polynomial Degree of 1\n",
    "* Grid of n x n x n (n = 30)\n",
    "* Wendland Radius = 14\n",
    "* Time Taken to Execute: 2min 30s"
   ]
  },
  {
   "cell_type": "code",
   "execution_count": 11,
   "metadata": {
    "scrolled": false
   },
   "outputs": [
    {
     "name": "stdout",
     "output_type": "stream",
     "text": [
      "CPU times: user 2min 30s, sys: 634 ms, total: 2min 31s\n",
      "Wall time: 2min 30s\n"
     ]
    }
   ],
   "source": [
    "%%time\n",
    "\n",
    "# Parameters\n",
    "method = 1\n",
    "polyDegree = 1 # Degree of polynomial \n",
    "h = 14 # Wendland Radius\n",
    "\n",
    "fx = np.array([f(xi, c, d, h, polyDegree, method) for xi in x])\n",
    "ind = np.zeros_like(fx)\n",
    "ind[fx >= 0] = 1\n",
    "ind[fx < 0] = -1"
   ]
  },
  {
   "cell_type": "code",
   "execution_count": 15,
   "metadata": {},
   "outputs": [
    {
     "data": {
      "application/vnd.jupyter.widget-view+json": {
       "model_id": "8f6e850b1cd949e3892daf97b5c0453e",
       "version_major": 2,
       "version_minor": 0
      },
      "text/plain": [
       "Renderer(camera=PerspectiveCamera(children=(DirectionalLight(color='white', intensity=0.6, position=(5.0, -23.…"
      ]
     },
     "metadata": {},
     "output_type": "display_data"
    }
   ],
   "source": [
    "# Treshold fx to visualize inside outside\n",
    "ind = np.zeros_like(fx)\n",
    "ind[fx >= 0] = 1\n",
    "ind[fx < 0] = -1\n",
    "q = mp.plot(x, c=ind, shading={\"point_size\": 4,\"width\": 800, \"height\": 800})"
   ]
  },
  {
   "cell_type": "markdown",
   "metadata": {},
   "source": [
    "# Plot 2:\n",
    "\n",
    "* Non-Accelerating Structure\n",
    "* Polynomial Degree of 2\n",
    "* Grid of n x n x n (n = 30)\n",
    "* Wendland Radius = 22\n",
    "* Time Taken to Execute: 2min 46s"
   ]
  },
  {
   "cell_type": "code",
   "execution_count": 10,
   "metadata": {},
   "outputs": [
    {
     "name": "stdout",
     "output_type": "stream",
     "text": [
      "CPU times: user 4min 54s, sys: 2.73 s, total: 4min 57s\n",
      "Wall time: 2min 46s\n"
     ]
    }
   ],
   "source": [
    "%%time\n",
    "\n",
    "# Parameters\n",
    "method = 1\n",
    "polyDegree = 2 # Degree of polynomial \n",
    "h = 20 # Wendland Radius\n",
    "\n",
    "fx2 = np.array([f(xi, c, d, h, polyDegree, method) for xi in x])\n",
    "ind = np.zeros_like(fx2)\n",
    "ind[fx2 >= 0] = 1\n",
    "ind[fx2 < 0] = -1"
   ]
  },
  {
   "cell_type": "code",
   "execution_count": 11,
   "metadata": {},
   "outputs": [
    {
     "data": {
      "application/vnd.jupyter.widget-view+json": {
       "model_id": "7af59eb036b8459e8b7a43afb2f76cb6",
       "version_major": 2,
       "version_minor": 0
      },
      "text/plain": [
       "Renderer(camera=PerspectiveCamera(children=(DirectionalLight(color='white', intensity=0.6, position=(5.0, -23.…"
      ]
     },
     "metadata": {},
     "output_type": "display_data"
    }
   ],
   "source": [
    "# Treshold fx to visualize inside outside\n",
    "ind = np.zeros_like(fx2)\n",
    "ind[fx2 >= 0] = 1\n",
    "ind[fx2 < 0] = -1\n",
    "q = mp.plot(x, c=ind, shading={\"point_size\": 4,\"width\": 800, \"height\": 800})"
   ]
  },
  {
   "cell_type": "markdown",
   "metadata": {},
   "source": [
    "# Plot 3:\n",
    "\n",
    "* Accelerating Structure: Kd-Tree\n",
    "* Polynomial Degree of 1\n",
    "* Grid of n x n x n (n = 30)\n",
    "* Wendland Radius = 14\n",
    "* Time Taken to Execute: 24s\n",
    "* Improvement of around 85%"
   ]
  },
  {
   "cell_type": "code",
   "execution_count": 12,
   "metadata": {},
   "outputs": [],
   "source": [
    "# Creating the Tree\n",
    "Tree = KdTree()\n",
    "\n",
    "# Inserting all the nodes into Tree\n",
    "for i in range(len(c)):\n",
    "    Tree.insert(c[i], i)"
   ]
  },
  {
   "cell_type": "code",
   "execution_count": 13,
   "metadata": {},
   "outputs": [
    {
     "name": "stdout",
     "output_type": "stream",
     "text": [
      "CPU times: user 23.6 s, sys: 97.2 ms, total: 23.7 s\n",
      "Wall time: 23.8 s\n"
     ]
    }
   ],
   "source": [
    "%%time\n",
    "\n",
    "# Parameters\n",
    "method = 2\n",
    "polyDegree = 1 # Degree of polynomial \n",
    "h = 14 # Wendland Radius\n",
    "                \n",
    "fx3 = np.array([f(xi, c, d, h, polyDegree, method, Tree) for xi in x])\n",
    "ind3 = np.zeros_like(fx3)\n",
    "ind[fx3 >= 0] = 1\n",
    "ind[fx3 < 0] = -1"
   ]
  },
  {
   "cell_type": "code",
   "execution_count": 14,
   "metadata": {
    "scrolled": false
   },
   "outputs": [
    {
     "data": {
      "application/vnd.jupyter.widget-view+json": {
       "model_id": "0b003963bba94e7e87046ed091d17e50",
       "version_major": 2,
       "version_minor": 0
      },
      "text/plain": [
       "Renderer(camera=PerspectiveCamera(children=(DirectionalLight(color='white', intensity=0.6, position=(5.0, -23.…"
      ]
     },
     "metadata": {},
     "output_type": "display_data"
    }
   ],
   "source": [
    "# Treshold fx to visualize inside outside\n",
    "ind = np.zeros_like(fx3)\n",
    "ind[fx3 >= 0] = 1\n",
    "ind[fx3 < 0] = -1\n",
    "q = mp.plot(x, c=ind, shading={\"point_size\": 4,\"width\": 800, \"height\": 800})"
   ]
  },
  {
   "cell_type": "markdown",
   "metadata": {},
   "source": [
    "# Plot 4:\n",
    "\n",
    "* Accelerating Structure: Kd-Tree\n",
    "* Polynomial Degree of 1\n",
    "* Grid of n x n x n (n = 30)\n",
    "* Wendland Radius = 20\n",
    "* Time Taken to Execute: 55.3s\n",
    "* Improvement of around 76%"
   ]
  },
  {
   "cell_type": "code",
   "execution_count": 32,
   "metadata": {},
   "outputs": [
    {
     "name": "stdout",
     "output_type": "stream",
     "text": [
      "CPU times: user 2min 38s, sys: 1.47 s, total: 2min 39s\n",
      "Wall time: 55.3 s\n"
     ]
    }
   ],
   "source": [
    "%%time\n",
    "\n",
    "# Parameters\n",
    "method = 2\n",
    "polyDegree = 2 # Degree of polynomial \n",
    "h = 20 # Wendland Radius\n",
    "                \n",
    "fx4 = np.array([f(xi, c, d, h, polyDegree, method, Tree) for xi in x])\n",
    "ind4 = np.zeros_like(fx3)\n",
    "ind[fx4 >= 0] = 1\n",
    "ind[fx4 < 0] = -1"
   ]
  },
  {
   "cell_type": "code",
   "execution_count": 33,
   "metadata": {},
   "outputs": [
    {
     "data": {
      "application/vnd.jupyter.widget-view+json": {
       "model_id": "014c9f5926494cf8a88bdc62f4492b44",
       "version_major": 2,
       "version_minor": 0
      },
      "text/plain": [
       "Renderer(camera=PerspectiveCamera(children=(DirectionalLight(color='white', intensity=0.6, position=(5.0, -23.…"
      ]
     },
     "metadata": {},
     "output_type": "display_data"
    }
   ],
   "source": [
    "# Treshold fx to visualize inside outside\n",
    "ind = np.zeros_like(fx4)\n",
    "ind[fx4 >= 0] = 1\n",
    "ind[fx4 < 0] = -1\n",
    "q = mp.plot(x, c=ind, shading={\"point_size\": 4,\"width\": 800, \"height\": 800})"
   ]
  },
  {
   "cell_type": "markdown",
   "metadata": {},
   "source": [
    "# Conclusions\n",
    "\n",
    "* The data structure reduces the waiting time around 85% for a first degree polynomial\n",
    "* The data structure reduces the waiting time around 76% for a second degree polynomial\n",
    "* The results is better for a first degree polynomial\n",
    "* The results is noissy for a second degree polynomial\n",
    "* The radius depends on the distance of the points. The closer they are, the smaller the radius. For a fixed grid\n",
    "* The radius also depend on the grid. The denser the grid, the smaller the radius. For a fixed radius\n",
    "* The picture below show the reeconstruction of the object using a first degree polynomial."
   ]
  },
  {
   "cell_type": "markdown",
   "metadata": {},
   "source": [
    "# Marching to extract surface"
   ]
  },
  {
   "cell_type": "code",
   "execution_count": 15,
   "metadata": {
    "scrolled": false
   },
   "outputs": [
    {
     "data": {
      "application/vnd.jupyter.widget-view+json": {
       "model_id": "ebf0ba8e8b424016b59d25b5e0293b87",
       "version_major": 2,
       "version_minor": 0
      },
      "text/plain": [
       "Renderer(camera=PerspectiveCamera(children=(DirectionalLight(color='white', intensity=0.6, position=(5.2356796…"
      ]
     },
     "metadata": {},
     "output_type": "display_data"
    },
    {
     "data": {
      "text/plain": [
       "<meshplot.Viewer.Viewer at 0x7fc2455a4310>"
      ]
     },
     "execution_count": 15,
     "metadata": {},
     "output_type": "execute_result"
    }
   ],
   "source": [
    "# Marcing tet to extract surface\n",
    "sv, sf, _, _ = igl.marching_tets(x, T, fx3, 0)\n",
    "sf_cc_indexes = igl.face_components(sf)\n",
    "sf_cc = sf[sf_cc_indexes == 0]\n",
    "mp.plot(sv, sf_cc, shading={\"wireframe\": True})"
   ]
  },
  {
   "cell_type": "markdown",
   "metadata": {},
   "source": [
    "# Implicit Surface Reconstruction Using a non-axis-aligned grid."
   ]
  },
  {
   "cell_type": "markdown",
   "metadata": {},
   "source": [
    "# Reading Point Cloud"
   ]
  },
  {
   "cell_type": "code",
   "execution_count": 16,
   "metadata": {
    "scrolled": true
   },
   "outputs": [
    {
     "name": "stdout",
     "output_type": "stream",
     "text": [
      "<class 'numpy.ndarray'>\n"
     ]
    },
    {
     "data": {
      "application/vnd.jupyter.widget-view+json": {
       "model_id": "492c5b3bb1924d1282e73cbb17f87628",
       "version_major": 2,
       "version_minor": 0
      },
      "text/plain": [
       "Renderer(camera=PerspectiveCamera(children=(DirectionalLight(color='white', intensity=0.6, position=(1.1287999…"
      ]
     },
     "metadata": {},
     "output_type": "display_data"
    },
    {
     "data": {
      "text/plain": [
       "<meshplot.Viewer.Viewer at 0x7fc2483591f0>"
      ]
     },
     "execution_count": 16,
     "metadata": {},
     "output_type": "execute_result"
    }
   ],
   "source": [
    "pi2, v2 = igl.read_triangle_mesh(\"data/luigi.off\")\n",
    "print(type(pi2))\n",
    "\n",
    "pi2 /= 10\n",
    "ni2 = igl.per_vertex_normals(pi2, v2)\n",
    "mp.plot(pi2, shading={\"point_size\": 0.5, \"width\": 800, \"height\": 800})"
   ]
  },
  {
   "cell_type": "markdown",
   "metadata": {},
   "source": [
    "# Transforming non-axis-aligned points to canonical axis-aligned points"
   ]
  },
  {
   "cell_type": "code",
   "execution_count": 17,
   "metadata": {},
   "outputs": [
    {
     "data": {
      "application/vnd.jupyter.widget-view+json": {
       "model_id": "2ab5b259a9ec4076a2d95a59c9f98e6e",
       "version_major": 2,
       "version_minor": 0
      },
      "text/plain": [
       "Renderer(camera=PerspectiveCamera(children=(DirectionalLight(color='white', intensity=0.6, position=(-1.726429…"
      ]
     },
     "metadata": {},
     "output_type": "display_data"
    }
   ],
   "source": [
    "# define a matrix that will hold all the data points\n",
    "A = pi2.reshape((len(pi2),3))\n",
    "\n",
    "# calculate the mean of each column\n",
    "M = np.mean(A.T, axis=1)\n",
    "\n",
    "# center columns by subtracting column means\n",
    "C = A - M\n",
    "\n",
    "# calculate covariance matrix of centered matrix\n",
    "V = np.cov(C.T)\n",
    "\n",
    "# eigendecomposition of covariance matrix\n",
    "values, vectors = np.linalg.eig(V)\n",
    "\n",
    "# Creating the Transformation Matrix \n",
    "transform_matrix = np.zeros((3,3))\n",
    "transform_matrix[:,0] = vectors[0]\n",
    "transform_matrix[:,1] = vectors[1]\n",
    "transform_matrix[:,2] = vectors[2]\n",
    "\n",
    "# Creating Rotation Matrix\n",
    "theta = np.pi/2\n",
    "Rot_Matrix = np.array([\n",
    "    [np.cos(theta), np.sin(theta), 0],\n",
    "    [-np.sin(theta), np.cos(theta), 0], \n",
    "    [0, 0, 1]\n",
    "])\n",
    "\n",
    "# Transforming the non-axis-aligned poinyts to canonical axis-aligned points\n",
    "# This is similar as transforming the grid\n",
    "# Rotating the data points to have a vertical shape\n",
    "pi2_modified = np.array([Rot_Matrix.dot(transform_matrix.dot(pi2_i)) for pi2_i in pi2])\n",
    "mp.plot(pi2_modified, shading={\"point_size\": 0.5})\n",
    "\n",
    "ni2_modified = np.array([Rot_Matrix.dot(transform_matrix.dot(ni2_i)) for ni2_i in ni2])"
   ]
  },
  {
   "cell_type": "code",
   "execution_count": 18,
   "metadata": {},
   "outputs": [],
   "source": [
    "# Creating the Aligned Bounding Box\n",
    "min_pi_2 = pi2_modified.min(axis=0)\n",
    "max_pi_2 = pi2_modified.max(axis=0)\n",
    "\n",
    "bbox_min_2 = min_pi_2\n",
    "bbox_max_2 = max_pi_2\n",
    "bbox_diag_2 = np.linalg.norm(bbox_max_2 - bbox_min_2)"
   ]
  },
  {
   "cell_type": "code",
   "execution_count": 19,
   "metadata": {},
   "outputs": [
    {
     "data": {
      "application/vnd.jupyter.widget-view+json": {
       "model_id": "27962dd52e6944bfb64eda7de5ab795a",
       "version_major": 2,
       "version_minor": 0
      },
      "text/plain": [
       "Renderer(camera=PerspectiveCamera(children=(DirectionalLight(color='white', intensity=0.6, position=(-1.726429…"
      ]
     },
     "metadata": {},
     "output_type": "display_data"
    },
    {
     "data": {
      "text/plain": [
       "2"
      ]
     },
     "execution_count": 19,
     "metadata": {},
     "output_type": "execute_result"
    }
   ],
   "source": [
    "pi2_p = [] # list to hold the p+\n",
    "pi2_m = [] # list to hold the p-\n",
    "eps2 = 0.01 * bbox_diag_2/2\n",
    "\n",
    "for i in range(len(pi2_modified)):\n",
    "    pi2_p.append(pi2_modified[i] + eps2 * ni2_modified[i])\n",
    "    pi2_m.append(pi2_modified[i] - eps2 * ni2_modified[i])\n",
    "\n",
    "# Conversion from list to numpy array\n",
    "pi2_p = np.array(pi2_p)\n",
    "pi2_m = np.array(pi2_m)\n",
    "\n",
    "# Array of constraint points\n",
    "c2 = np.concatenate((pi2_modified, pi2_p, pi2_m))\n",
    "\n",
    "# List of constraint values\n",
    "d2 = []\n",
    "n2 = len(pi2_modified)\n",
    "for i in range(3*n2):\n",
    "    if (i < n):\n",
    "        d2.append(0)\n",
    "    elif (i < 2*n2):\n",
    "        d2.append(eps2)\n",
    "    else:\n",
    "        d2.append(-eps2)\n",
    "\n",
    "# Conversion from list to numpy array\n",
    "d2 = np.array(d2)\n",
    "\n",
    "# Ploting constraint points\n",
    "p2 = mp.plot(pi2_modified, c='blue', shading={\"point_size\": 0.5})\n",
    "p2.add_points(pi2_p, c='red', shading={\"point_size\": 0.5})\n",
    "p2.add_points(pi2_m, c='green', shading={\"point_size\": 0.5})"
   ]
  },
  {
   "cell_type": "markdown",
   "metadata": {},
   "source": [
    "# Plot 5\n",
    "\n",
    "* Using accelerating data structure\n",
    "* Grid of n = 50\n",
    "* Degree of Polynomial = 1\n",
    "* Wendland Radius = .48\n",
    "* Time taken: 46.2s"
   ]
  },
  {
   "cell_type": "code",
   "execution_count": 20,
   "metadata": {},
   "outputs": [],
   "source": [
    "# Generate grid n x n x n\n",
    "n2 = 50\n",
    "x2, T2 = tet_grid((n2, n2, n2), bbox_min_2 - 0.05 * bbox_diag_2, bbox_max_2 + 0.05 * bbox_diag_2)\n",
    "\n",
    "# Creating the Tree\n",
    "Tree2 = KdTree()\n",
    "\n",
    "# Inserting all the nodes into Tree\n",
    "for i in range(len(c2)):\n",
    "    Tree2.insert(c2[i], i)"
   ]
  },
  {
   "cell_type": "code",
   "execution_count": 21,
   "metadata": {},
   "outputs": [
    {
     "data": {
      "application/vnd.jupyter.widget-view+json": {
       "model_id": "2e2f0f8e27794d92a1a1880ff61931d0",
       "version_major": 2,
       "version_minor": 0
      },
      "text/plain": [
       "Renderer(camera=PerspectiveCamera(children=(DirectionalLight(color='white', intensity=0.6, position=(-1.726429…"
      ]
     },
     "metadata": {},
     "output_type": "display_data"
    },
    {
     "name": "stdout",
     "output_type": "stream",
     "text": [
      "CPU times: user 44.3 s, sys: 170 ms, total: 44.5 s\n",
      "Wall time: 44.4 s\n"
     ]
    }
   ],
   "source": [
    "%%time\n",
    "\n",
    "# Parameters\n",
    "method = 2\n",
    "polyDegree = 1 # Degree of polynomial   \n",
    "h2 = .48 # Wendland Radius\n",
    "\n",
    "fx5 = np.array([f(xi, c2, d2, h2, polyDegree, method, Tree2) for xi in x2])\n",
    "ind2 = np.zeros_like(fx5)\n",
    "ind2[fx5 >= 0] = 1\n",
    "ind2[fx5 < 0] = -1\n",
    "\n",
    "q2 = mp.plot(x2, c=ind2, shading={\"point_size\": .5,\"width\": 800, \"height\": 800})"
   ]
  },
  {
   "cell_type": "code",
   "execution_count": 22,
   "metadata": {},
   "outputs": [
    {
     "data": {
      "application/vnd.jupyter.widget-view+json": {
       "model_id": "1b829c2ef427441aa85e0d983ecd7e38",
       "version_major": 2,
       "version_minor": 0
      },
      "text/plain": [
       "Renderer(camera=PerspectiveCamera(children=(DirectionalLight(color='white', intensity=0.6, position=(-1.731333…"
      ]
     },
     "metadata": {},
     "output_type": "display_data"
    },
    {
     "data": {
      "text/plain": [
       "<meshplot.Viewer.Viewer at 0x7fc2455b9040>"
      ]
     },
     "execution_count": 22,
     "metadata": {},
     "output_type": "execute_result"
    }
   ],
   "source": [
    "# Marching tet to extract surface\n",
    "sv2, sf2, _, _ = igl.marching_tets(x2, T2, fx5, 0)\n",
    "mp.plot(sv2, sf2, shading={\"wireframe\": True})"
   ]
  },
  {
   "cell_type": "markdown",
   "metadata": {},
   "source": [
    "# Plot 6\n",
    "\n",
    "* Using accelerating data structure\n",
    "* Grid of n = 80\n",
    "* Degree of Polynomial = 2\n",
    "* Wendland Radius = .46\n",
    "* Time taken: 3min 2s"
   ]
  },
  {
   "cell_type": "code",
   "execution_count": 71,
   "metadata": {},
   "outputs": [],
   "source": [
    "# Generate grid n x n x n\n",
    "n2 = 80\n",
    "x2, T2 = tet_grid((n2, n2, n2), bbox_min_2 - 0.05 * bbox_diag_2, bbox_max_2 + 0.05 * bbox_diag_2)"
   ]
  },
  {
   "cell_type": "code",
   "execution_count": 74,
   "metadata": {},
   "outputs": [
    {
     "data": {
      "application/vnd.jupyter.widget-view+json": {
       "model_id": "3a6691b2eb054977b6adfad295e1fd7c",
       "version_major": 2,
       "version_minor": 0
      },
      "text/plain": [
       "Renderer(camera=PerspectiveCamera(children=(DirectionalLight(color='white', intensity=0.6, position=(-1.726429…"
      ]
     },
     "metadata": {},
     "output_type": "display_data"
    },
    {
     "name": "stdout",
     "output_type": "stream",
     "text": [
      "CPU times: user 3min 1s, sys: 1.26 s, total: 3min 2s\n",
      "Wall time: 3min 2s\n"
     ]
    }
   ],
   "source": [
    "%%time\n",
    "\n",
    "# Parameters\n",
    "method = 2\n",
    "polyDegree = 2 # Degree of polynomial   \n",
    "h2 = .46 # Wendland Radius\n",
    "\n",
    "fx6 = np.array([f(xi, c2, d2, h2, polyDegree, method, Tree2) for xi in x2])\n",
    "ind2 = np.zeros_like(fx6)\n",
    "ind2[fx6 >= 0] = 1\n",
    "ind2[fx6 < 0] = -1\n",
    "\n",
    "q2 = mp.plot(x2, c=ind2, shading={\"point_size\": .3,\"width\": 800, \"height\": 800})"
   ]
  },
  {
   "cell_type": "code",
   "execution_count": 80,
   "metadata": {},
   "outputs": [
    {
     "name": "stdout",
     "output_type": "stream",
     "text": [
      "[[    16     17     18]\n",
      " [    19     20     21]\n",
      " [    20     22     21]\n",
      " ...\n",
      " [125886 125885 125865]\n",
      " [125865 125866 125885]\n",
      " [125885 125866 125853]]\n"
     ]
    },
    {
     "data": {
      "application/vnd.jupyter.widget-view+json": {
       "model_id": "27f9455699e0461d870066179af5c522",
       "version_major": 2,
       "version_minor": 0
      },
      "text/plain": [
       "Renderer(camera=PerspectiveCamera(children=(DirectionalLight(color='white', intensity=0.6, position=(-1.726457…"
      ]
     },
     "metadata": {},
     "output_type": "display_data"
    },
    {
     "data": {
      "text/plain": [
       "<meshplot.Viewer.Viewer at 0x7f92503bc9a0>"
      ]
     },
     "execution_count": 80,
     "metadata": {},
     "output_type": "execute_result"
    }
   ],
   "source": [
    "# Marching tet to extract surface\n",
    "sv2, sf2, _, _ = igl.marching_tets(x2, T2, fx6, 0)\n",
    "\n",
    "sf2_cc_indexes = igl.face_components(sf2)\n",
    "sf2_cc = sf2[sf2_cc_indexes > 1]\n",
    "print(sf2_cc)\n",
    "mp.plot(sv2, sf2_cc, shading={\"wireframe\": True})"
   ]
  },
  {
   "cell_type": "markdown",
   "metadata": {},
   "source": [
    "# Conclusions\n",
    "\n",
    "* Similar as above, the polynomial of degree one worked better with almost no noise and less grid points\n",
    "* I increased the number of grid points since the object included more details\n",
    "* The radius depends both on the distance between points and the also the number of grid points\n",
    "* The technique to transform the object from a non-axis aligned system to an axis-aligned system was PCA\n",
    "* A rotation matrix was used to make the object vertical"
   ]
  },
  {
   "cell_type": "code",
   "execution_count": null,
   "metadata": {},
   "outputs": [],
   "source": []
  }
 ],
 "metadata": {
  "kernelspec": {
   "display_name": "Python 3",
   "language": "python",
   "name": "python3"
  },
  "language_info": {
   "codemirror_mode": {
    "name": "ipython",
    "version": 3
   },
   "file_extension": ".py",
   "mimetype": "text/x-python",
   "name": "python",
   "nbconvert_exporter": "python",
   "pygments_lexer": "ipython3",
   "version": "3.9.1"
  }
 },
 "nbformat": 4,
 "nbformat_minor": 4
}
