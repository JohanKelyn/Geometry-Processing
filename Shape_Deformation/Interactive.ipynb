{
 "cells": [
  {
   "cell_type": "code",
   "execution_count": 1,
   "id": "forty-bottom",
   "metadata": {},
   "outputs": [],
   "source": [
    "import numpy as np\n",
    "import igl\n",
    "import meshplot as mp\n",
    "from scipy.spatial.transform import Rotation\n",
    "import ipywidgets as iw\n",
    "import time\n",
    "import scipy as sc\n",
    "import scipy.sparse as sp\n",
    "from sksparse.cholmod import cholesky"
   ]
  },
  {
   "cell_type": "markdown",
   "id": "fewer-copper",
   "metadata": {},
   "source": [
    "# Reading and Plotting the Mesh"
   ]
  },
  {
   "cell_type": "code",
   "execution_count": 2,
   "id": "guided-screen",
   "metadata": {},
   "outputs": [
    {
     "data": {
      "application/vnd.jupyter.widget-view+json": {
       "model_id": "cc5fdc9f61534be89a6cd6fd1a8ab86f",
       "version_major": 2,
       "version_minor": 0
      },
      "text/plain": [
       "Renderer(camera=PerspectiveCamera(children=(DirectionalLight(color='white', intensity=0.6, position=(0.4306930…"
      ]
     },
     "metadata": {},
     "output_type": "display_data"
    },
    {
     "data": {
      "text/plain": [
       "<meshplot.Viewer.Viewer at 0x7fdcaeab96a0>"
      ]
     },
     "execution_count": 2,
     "metadata": {},
     "output_type": "execute_result"
    }
   ],
   "source": [
    "# Reading Triangle Mesh and Constraints\n",
    "v, f = igl.read_triangle_mesh('data/woody-hi.off')\n",
    "labels = np.load('data/woody-hi.label.npy').astype(int)\n",
    "\n",
    "#v, f = igl.read_triangle_mesh('data/hand.off')\n",
    "#labels = np.load('data/hand.label.npy').astype(int)\n",
    "\n",
    "#v, f = igl.read_triangle_mesh('data/cactus.off')\n",
    "#labels = np.load('data/cactus.label.npy').astype(int)\n",
    "\n",
    "#v, f = igl.read_triangle_mesh('data/camel_head.off')\n",
    "#labels = np.load('data/camel_head.label.npy').astype(int)\n",
    "\n",
    "v -= v.min(axis=0)\n",
    "v /= v.max()\n",
    "\n",
    "# Ploting the original Mesh\n",
    "mp.plot(v, f, c=labels, shading={\"wireframe\": True})"
   ]
  },
  {
   "cell_type": "markdown",
   "id": "geological-bride",
   "metadata": {},
   "source": [
    "# Step 1: Removal of high-frequency details"
   ]
  },
  {
   "cell_type": "code",
   "execution_count": 3,
   "id": "passive-indication",
   "metadata": {},
   "outputs": [],
   "source": [
    "# Indices of the faces that will be deformed\n",
    "fixed_indices = np.where(labels > 0)[0]\n",
    "\n",
    "# Indices of the faces that will not be deformed\n",
    "free_indices = np.where(labels == 0)[0]\n",
    "\n",
    "# Defining the Bi-Laplacian Operator Matrix\n",
    "M = igl.massmatrix(v, f, igl.MASSMATRIX_TYPE_BARYCENTRIC)\n",
    "L_w = igl.cotmatrix(v, f)\n",
    "M_inv = sc.sparse.diags(1 / M.diagonal())\n",
    "K = L_w.T @ M_inv @ L_w\n",
    "\n",
    "K_ff = K[free_indices,:][:,free_indices]\n",
    "K_ff = sp.csc_matrix(K_ff)\n",
    "K_fc = K[free_indices,:][:,fixed_indices]\n",
    "\n",
    "# Cholseky factorization\n",
    "factor = cholesky(K_ff)"
   ]
  },
  {
   "cell_type": "markdown",
   "id": "conceptual-leisure",
   "metadata": {},
   "source": [
    "<h3>Smmothing Surface</h3>"
   ]
  },
  {
   "cell_type": "code",
   "execution_count": 4,
   "id": "matched-consumer",
   "metadata": {},
   "outputs": [],
   "source": [
    "# Function that smooth the surface\n",
    "def smooth_surface(v):\n",
    "    \n",
    "    # Defining v_smooth\n",
    "    v_smooth = v.copy()\n",
    "    \n",
    "    # Defining the b vector\n",
    "    b = np.zeros([v.shape[0],3])\n",
    "    \n",
    "    b[free_indices,:] = b[free_indices,:] - K_fc @ v_smooth[fixed_indices,:]\n",
    "    v_smooth[free_indices,:] = factor(b[free_indices,:])\n",
    "    \n",
    "    return v_smooth"
   ]
  },
  {
   "cell_type": "markdown",
   "id": "smaller-monroe",
   "metadata": {},
   "source": [
    "<h3>Encoding Displacement Details</h3>"
   ]
  },
  {
   "cell_type": "code",
   "execution_count": 5,
   "id": "olympic-cathedral",
   "metadata": {},
   "outputs": [],
   "source": [
    "def encoding_displacement(v, v_smooth, f):\n",
    "    # Computing the displacement vector\n",
    "    d_i = v - v_smooth\n",
    "\n",
    "    # Calculating normals from the smooth surface\n",
    "    n_i = igl.per_vertex_normals(v_smooth, f)\n",
    "\n",
    "    # Neighboring vertices\n",
    "    neighbor_vertices = igl.adjacency_list(f)\n",
    "\n",
    "    # Calculating projected edges\n",
    "    projected_edges = np.zeros_like(n_i)\n",
    "    indexes = []\n",
    "\n",
    "    for j in range(len(neighbor_vertices)):\n",
    "        distance = -10000\n",
    "        indx = -1\n",
    "        for neighbor_index in neighbor_vertices[j]:\n",
    "            e_i = v_smooth[neighbor_index,:] - v_smooth[j,:] # calculates each edge\n",
    "            par_proj = np.dot(n_i[j,:],e_i)* n_i[j,:] # paralell projection to normal\n",
    "            per_proj =  e_i - par_proj # perpendicular projection of edge to normal\n",
    "            if (np.linalg.norm(per_proj) > distance):\n",
    "                distance = np.linalg.norm(per_proj) \n",
    "                projected_edges[j,:] =  per_proj\n",
    "                indx = neighbor_index\n",
    "        indexes.append(indx)\n",
    "\n",
    "    # Defining the Basis for surface B\n",
    "    x_i = projected_edges\n",
    "    x_i /= np.linalg.norm(x_i, axis=1)[:,None]\n",
    "    y_i = np.cross(n_i,x_i)\n",
    "    \n",
    "    # Constants\n",
    "    d_i_c = np.zeros_like(v)\n",
    "\n",
    "    for i in range(n_i.shape[0]):\n",
    "        d_i_c[i,0] = d_i[i,:].dot(x_i[i,:])\n",
    "        d_i_c[i,1] = d_i[i,:].dot(y_i[i,:])\n",
    "        d_i_c[i,2] = d_i[i,:].dot(n_i[i,:])\n",
    "        \n",
    "    return [indexes, d_i_c]"
   ]
  },
  {
   "cell_type": "markdown",
   "id": "contemporary-harassment",
   "metadata": {},
   "source": [
    "<h3>Calculating Smooth Surface and Encoding Displacement Details</h3>"
   ]
  },
  {
   "cell_type": "code",
   "execution_count": 6,
   "id": "varying-deficit",
   "metadata": {},
   "outputs": [],
   "source": [
    "# Smoothing the surface by removing high frequency details\n",
    "v_smooth = smooth_surface(v)\n",
    "\n",
    "# Calculating Indexes for longest projected edge and the Displacement details\n",
    "indexes, displacement_cosntants = encoding_displacement(v, v_smooth, f)"
   ]
  },
  {
   "cell_type": "markdown",
   "id": "inside-arrest",
   "metadata": {},
   "source": [
    "# Step 2. Deforming the Smooth Mesh"
   ]
  },
  {
   "cell_type": "code",
   "execution_count": 7,
   "id": "reserved-crisis",
   "metadata": {},
   "outputs": [],
   "source": [
    "handle_vertex_positions = v_smooth.copy()\n",
    "pos_f_saver = np.zeros((labels.max() + 1, 6))\n",
    "\n",
    "# Functions that handle the deformation\n",
    "def pos_f(s,x,y,z, α, β, γ):\n",
    "    slices = (labels==s)\n",
    "    r = Rotation.from_euler('xyz', [α, β, γ], degrees=True)\n",
    "    v_slice = v[slices] + np.array([[x,y,z]])\n",
    "    center = v_slice.mean(axis=0)\n",
    "    handle_vertex_positions[slices] = r.apply(v_slice - center) + center\n",
    "    pos_f_saver[s - 1] = [x,y,z,α,β,γ]\n",
    "    t0 = time.time()\n",
    "    v_deformed = pos_f.deformer(handle_vertex_positions)\n",
    "    p.update_object(vertices = v_deformed)\n",
    "    t1 = time.time()\n",
    "    print('FPS', 1/(t1 - t0))\n",
    "    \n",
    "def position_deformer(target_pos):\n",
    "    v_deformed = smooth_surface(target_pos)\n",
    "    v_transformed = transfering_displacements(v_deformed, indexes, displacement_cosntants)\n",
    "    return v_transformed\n",
    "\n",
    "pos_f.deformer = position_deformer"
   ]
  },
  {
   "cell_type": "markdown",
   "id": "progressive-zealand",
   "metadata": {},
   "source": [
    "# Step 3: Transferring high-frequency details to the deformed surface\n",
    "\n",
    "<h3>Function that transfer the displacement details back to deformed surface</h3>"
   ]
  },
  {
   "cell_type": "code",
   "execution_count": 8,
   "id": "missing-storage",
   "metadata": {},
   "outputs": [],
   "source": [
    "def transfering_displacements(v_deformed, indexes, constants):\n",
    "    \n",
    "    # Getting the displacement constants\n",
    "    d_i_x = constants[:,0]\n",
    "    d_i_y = constants[:,1]\n",
    "    d_i_z = constants[:,2]\n",
    "    \n",
    "    # Calculating normals for deformed surface\n",
    "    n_i_1 = igl.per_vertex_normals(v_deformed, f)\n",
    "    projected_vertex_1 = np.zeros_like(n_i_1)\n",
    "\n",
    "    edges = v_deformed[indexes] - v_deformed\n",
    "\n",
    "    for j in range(edges.shape[0]):\n",
    "        e_i_1 = edges[j,:]\n",
    "        par_proj_1 = np.dot(n_i_1[j,:],e_i_1)*n_i_1[j,:] #parallel proj\n",
    "        per_proj_1 =  e_i_1 - par_proj_1 \n",
    "        projected_vertex_1[j,:] = per_proj_1\n",
    "\n",
    "    x_i_1 = projected_vertex_1\n",
    "    x_i_1 /= np.linalg.norm(x_i_1, axis=1)[:,None]\n",
    "    y_i_1 = np.cross(n_i_1,x_i_1)\n",
    "\n",
    "    d_i_1 = np.zeros_like(n_i_1)\n",
    "    for j in range(d_i_1.shape[0]):\n",
    "        d_i_1[j] = d_i_x[j] * x_i_1[j] + d_i_y[j] * y_i_1[j] + d_i_z[j] * n_i_1[j] \n",
    "\n",
    "    v_transformed = v_deformed + d_i_1\n",
    "    return v_transformed"
   ]
  },
  {
   "cell_type": "markdown",
   "id": "linear-budapest",
   "metadata": {},
   "source": [
    "# Visualization of Deformed Mesh"
   ]
  },
  {
   "cell_type": "code",
   "execution_count": 9,
   "id": "mounted-moral",
   "metadata": {},
   "outputs": [],
   "source": [
    "def widgets_wrapper():\n",
    "    segment_widget = iw.Dropdown(options=np.arange(labels.max()) + 1)\n",
    "    translate_widget = {i:iw.FloatSlider(min=-1, max=1, value=0) \n",
    "                        for i in 'xyz'}\n",
    "    rotate_widget = {a:iw.FloatSlider(min=-90, max=90, value=0, step=1) \n",
    "                     for a in 'αβγ'}\n",
    "\n",
    "    def update_seg(*args):\n",
    "        (translate_widget['x'].value,translate_widget['y'].value,\n",
    "        translate_widget['z'].value,\n",
    "        rotate_widget['α'].value,rotate_widget['β'].value,\n",
    "        rotate_widget['γ'].value) = pos_f_saver[segment_widget.value]\n",
    "    segment_widget.observe(update_seg, 'value')\n",
    "    widgets_dict = dict(s=segment_widget)\n",
    "    widgets_dict.update(translate_widget)\n",
    "    widgets_dict.update(rotate_widget)\n",
    "    return widgets_dict"
   ]
  },
  {
   "cell_type": "code",
   "execution_count": 10,
   "id": "soviet-fleece",
   "metadata": {},
   "outputs": [
    {
     "data": {
      "application/vnd.jupyter.widget-view+json": {
       "model_id": "69bdfb4d80c748e7aab758496f31a67c",
       "version_major": 2,
       "version_minor": 0
      },
      "text/plain": [
       "Renderer(camera=PerspectiveCamera(children=(DirectionalLight(color='white', intensity=0.6, position=(0.4306930…"
      ]
     },
     "metadata": {},
     "output_type": "display_data"
    },
    {
     "data": {
      "application/vnd.jupyter.widget-view+json": {
       "model_id": "f9c6f268cdc54c60962b49b4f156bed1",
       "version_major": 2,
       "version_minor": 0
      },
      "text/plain": [
       "interactive(children=(Dropdown(description='s', options=(1, 2, 3, 4, 5), value=1), FloatSlider(value=0.0, desc…"
      ]
     },
     "metadata": {},
     "output_type": "display_data"
    },
    {
     "data": {
      "text/plain": [
       "<function __main__.pos_f(s, x, y, z, α, β, γ)>"
      ]
     },
     "execution_count": 10,
     "metadata": {},
     "output_type": "execute_result"
    }
   ],
   "source": [
    "## Widget UI\n",
    "p = mp.plot(handle_vertex_positions, f, c=labels)\n",
    "iw.interact(pos_f,\n",
    "            **widgets_wrapper())"
   ]
  },
  {
   "cell_type": "code",
   "execution_count": null,
   "id": "corresponding-politics",
   "metadata": {},
   "outputs": [],
   "source": []
  }
 ],
 "metadata": {
  "kernelspec": {
   "display_name": "Python 3",
   "language": "python",
   "name": "python3"
  },
  "language_info": {
   "codemirror_mode": {
    "name": "ipython",
    "version": 3
   },
   "file_extension": ".py",
   "mimetype": "text/x-python",
   "name": "python",
   "nbconvert_exporter": "python",
   "pygments_lexer": "ipython3",
   "version": "3.9.1"
  }
 },
 "nbformat": 4,
 "nbformat_minor": 5
}
