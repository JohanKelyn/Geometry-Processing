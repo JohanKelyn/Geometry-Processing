{
 "cells": [
  {
   "cell_type": "code",
   "execution_count": 1,
   "id": "athletic-court",
   "metadata": {},
   "outputs": [],
   "source": [
    "import numpy as np\n",
    "from scipy.linalg import norm \n",
    "import igl\n",
    "import meshplot as mp\n",
    "import triangle as tr\n",
    "from scipy.sparse.linalg import spsolve\n",
    "import ipywidgets as iw\n",
    "import time\n",
    "from scipy.spatial.transform import Rotation"
   ]
  },
  {
   "cell_type": "markdown",
   "id": "rapid-turtle",
   "metadata": {},
   "source": [
    "<h1 style=\"text-align:center; color:blue;\"> Harmonic Coordinates for Character Articulation </h1>\n",
    "<p style=\"text-align:center; color:black;\"><strong>Author:</strong> Johan Moreira</p>\n",
    "<p style=\"text-align:center; color:black;\"><strong>Date:</strong> 05/21/2021</p>\n",
    "\n",
    "This project is based on the paper Harmonic Coordinates for Character Articulation by Joshi, et al. In this notebook I consider the problem of creating and controlling planar figure deformations used to articulate characters for use in high-end applications. My goal is to show that harmonic coordinates improves upon existing planar figure deformation techniques. \n",
    "\n",
    "The deformations performed here are controlled using a topologically flexible structure, called a cage, that consists of a closed two dimensional mesh. I will show that harmonic coordinates are generalized barycentric coordinates that can be extended to any dimension. Moreover, harmonic coordinates are the first system of generalized barycentric coordinates that are non-negative even in strongly concave situations, and their magnitude falls off with distance as measured within the cage.\n",
    "\n",
    "<img src=\"data/fig1.png\">\n",
    "\n",
    "The steps to accomplish the deformations are the following:\n",
    "<ol>\n",
    "  <li>Reading the Data</li>\n",
    "  <li>Creating the Cage Manually</li>\n",
    "  <li>Triangulation of the Cage</li>\n",
    "  <li>Obtain Harmonic Coordinates by Solving Laplace's Equation</li>\n",
    "  <li>Finding intersection between Mesh Points and Cage Triangles</li>\n",
    "  <li>6.- Deforming Cage Vertex Deforming Mesh by Using Harmonic Coordinates and Barycentric Coordinates</li>\n",
    "</ol>"
   ]
  },
  {
   "cell_type": "markdown",
   "id": "intimate-marijuana",
   "metadata": {},
   "source": [
    "<h3 style=\"color: green\">1.- Reading Data</h3>\n",
    "\n",
    "Note that the data contains the mesh that will be deformed and a selector mesh that will be used to create the cage"
   ]
  },
  {
   "cell_type": "code",
   "execution_count": 6,
   "id": "understood-passion",
   "metadata": {},
   "outputs": [],
   "source": [
    "# Loading Mesh\n",
    "v, f = igl.read_triangle_mesh(\"data/woody-lo.off\")\n",
    "v /= 10\n",
    "\n",
    "# Loading Selector\n",
    "s_v, s_f, s_c = igl.read_off(\"data/selector.off\")\n",
    "s_v *= 100\n",
    "\n",
    "# Min Max Values for mesh\n",
    "min_x = v[:,0].min()\n",
    "min_y = v[:,1].min()\n",
    "max_x = v[:,0].max()\n",
    "max_y = v[:,1].max()"
   ]
  },
  {
   "cell_type": "markdown",
   "id": "correct-ministry",
   "metadata": {},
   "source": [
    "<h3 style=\"color: green\">2.- Creating the Cage</h3>\n",
    "\n",
    "To create the cage, use the slider below and click on the Add Vertex Button to add all the points that will compose the cage. Once all the points are defined, then click on the draw Cage button to create the cage"
   ]
  },
  {
   "cell_type": "code",
   "execution_count": 8,
   "id": "ignored-charger",
   "metadata": {},
   "outputs": [
    {
     "data": {
      "application/vnd.jupyter.widget-view+json": {
       "model_id": "b05f6f2b8d1e43ae8ba9af67ec85b362",
       "version_major": 2,
       "version_minor": 0
      },
      "text/plain": [
       "Renderer(camera=PerspectiveCamera(aspect=1.3333333333333333, children=(DirectionalLight(color='white', intensi…"
      ]
     },
     "metadata": {},
     "output_type": "display_data"
    },
    {
     "data": {
      "application/vnd.jupyter.widget-view+json": {
       "model_id": "f22f3f1dba074d00b1566f83a29ed132",
       "version_major": 2,
       "version_minor": 0
      },
      "text/plain": [
       "HBox(children=(Button(description='Add Vertex!', style=ButtonStyle()), Button(description='Draw Cage!', style=…"
      ]
     },
     "metadata": {},
     "output_type": "display_data"
    },
    {
     "data": {
      "application/vnd.jupyter.widget-view+json": {
       "model_id": "d825f8146c5d45e38c310283a63b55b5",
       "version_major": 2,
       "version_minor": 0
      },
      "text/plain": [
       "interactive(children=(FloatSlider(value=0.0, description='x', max=39.5829, min=-4.866076, step=0.01), FloatSli…"
      ]
     },
     "metadata": {},
     "output_type": "display_data"
    },
    {
     "data": {
      "text/plain": [
       "'Note: This implementation works only for convex cages. If need to redraw the cage, please re-run this kernel'"
      ]
     },
     "execution_count": 8,
     "metadata": {},
     "output_type": "execute_result"
    }
   ],
   "source": [
    "# Cage Vertices\n",
    "cage_vertices = []\n",
    "edges = []\n",
    "\n",
    "button = iw.Button(description=\"Add Vertex!\")\n",
    "draw_cage = iw.Button(description=\"Draw Cage!\")\n",
    "\n",
    "# Set Callback\n",
    "def add_vertex(b):\n",
    "    cage_vertices.append(list(sf.coord[0,0:2]))\n",
    "    if(len(cage_vertices) >= 1):\n",
    "        paint_ui.add_points(np.array(cage_vertices),shading={\"point_color\": \"green\", \"point_size\": 10})\n",
    "\n",
    "    \n",
    "def add_edges(b):\n",
    "    if len(cage_vertices) > 1:\n",
    "        for i in range(len(cage_vertices)-1):\n",
    "            edges.append([i,i+1])\n",
    "        edges.append([len(cage_vertices)-1,0])\n",
    "        paint_ui.add_edges(np.array(cage_vertices),np.array(edges))\n",
    "    else:\n",
    "        print(\"Need at least 2 vertices to draw a cage\")\n",
    "    \n",
    "button.on_click(add_vertex)\n",
    "draw_cage.on_click(add_edges)\n",
    "\n",
    "# Meshplot\n",
    "paint_ui = mp.plot(v,f,shading={\"wireframe\": True,\"width\": 400, \"height\": 300})\n",
    "paint_ui.add_mesh(s_v,s_f,c=s_c)\n",
    "\n",
    "# Display Buttons\n",
    "display(iw.HBox([button, draw_cage]))\n",
    "\n",
    "def sf(x,y):\n",
    "    s_v_1 = s_v.copy()\n",
    "    s_v_1 += np.array([x,y,0])\n",
    "    paint_ui.update_object(oid=1, vertices=s_v_1, colors=s_c)\n",
    "    sf.coord = s_v_1\n",
    "\n",
    "mp.interact(sf, \n",
    "            x = iw.FloatSlider(min=min_x-5, max=max_x+5, value=0.0, step=0.01),\n",
    "            y = iw.FloatSlider(min=min_y-5, max=max_y+5, value=0.0, step=0.01))\n",
    "\n",
    "\"\"\"Note: This implementation works only for convex cages. If need to redraw the cage, please re-run this kernel\"\"\""
   ]
  },
  {
   "cell_type": "code",
   "execution_count": 9,
   "id": "greenhouse-shanghai",
   "metadata": {},
   "outputs": [],
   "source": [
    "# Saving the cage vertices and edges\n",
    "filename_1 = 'cage_vertices'\n",
    "filename_2 = 'edge_cage'\n",
    "np.save('data/'+filename_1, np.array(cage_vertices))\n",
    "np.save('data/'+filename_2, np.array(edges))"
   ]
  },
  {
   "cell_type": "markdown",
   "id": "grand-registrar",
   "metadata": {},
   "source": [
    "<h3 style=\"color: green\">3.- Triangulating and Plotting Cage</h3>"
   ]
  },
  {
   "cell_type": "code",
   "execution_count": 10,
   "id": "annual-canberra",
   "metadata": {},
   "outputs": [],
   "source": [
    "# Predefined cage. Use these files if you do not want to create your own cage\n",
    "f1 = 'cage_vertices_predifined'\n",
    "f2 = 'cage_edges_predifined'\n",
    "\n",
    "# Use filename_1 and filename_2 for your own defined cage\n",
    "\n",
    "#Reading the cage data\n",
    "#c_vertices = np.load('data/'+f1+'.npy')\n",
    "#c_edges = np.load('data/'+f2+'.npy')\n",
    "c_vertices = np.load('data/'+filename_1+'.npy')\n",
    "c_edges = np.load('data/'+filename_2+'.npy')\n",
    "n = c_vertices.shape[0]\n",
    "\n",
    "A = dict(vertices=c_vertices)\n",
    "B = tr.triangulate(A,'qa5')\n",
    "v_cage = B['vertices']\n",
    "f_cage = B['triangles']\n",
    "colors_cage = np.ones([v_cage.shape[0],3])*0.4\n"
   ]
  },
  {
   "cell_type": "code",
   "execution_count": 11,
   "id": "confidential-projection",
   "metadata": {
    "scrolled": true
   },
   "outputs": [
    {
     "data": {
      "application/vnd.jupyter.widget-view+json": {
       "model_id": "3d2e6b0556f841b8bf12af262095a098",
       "version_major": 2,
       "version_minor": 0
      },
      "text/plain": [
       "Renderer(camera=PerspectiveCamera(aspect=1.3333333333333333, children=(DirectionalLight(color='white', intensi…"
      ]
     },
     "metadata": {},
     "output_type": "display_data"
    },
    {
     "data": {
      "text/plain": [
       "2"
      ]
     },
     "execution_count": 11,
     "metadata": {},
     "output_type": "execute_result"
    }
   ],
   "source": [
    "q = mp.plot(v_cage, f_cage, c =colors_cage, shading={\"wireframe\": True, \"width\": 400, \"height\": 300})\n",
    "q.add_mesh(v, f)\n",
    "q.add_points(v_cage, shading={\"point_color\": \"green\", \"point_size\": 5})"
   ]
  },
  {
   "cell_type": "markdown",
   "id": "previous-eagle",
   "metadata": {},
   "source": [
    "<h3 style=\"color: green\">4.- Obtaining Harmonic Coordinates</h3>"
   ]
  },
  {
   "cell_type": "code",
   "execution_count": 12,
   "id": "specified-inventory",
   "metadata": {},
   "outputs": [],
   "source": [
    "# Function that will define the constraints\n",
    "def get_contraint(k):\n",
    "    z = np.zeros(v_cage.shape[0])\n",
    "    z[k] = 1\n",
    "    if k == 0:\n",
    "        neig1 = k+1\n",
    "        neig2 = v_b[n-1]\n",
    "    elif k == n-1:\n",
    "        neig1 = 0\n",
    "        neig2 = k-1\n",
    "    else:\n",
    "        neig1 = k+1\n",
    "        neig2 = k-1\n",
    "        \n",
    "    d1 = norm(v_cage[k,:]-v_cage[neig1,:])\n",
    "    d2 = norm(v_cage[k,:]-v_cage[neig2,:])\n",
    "    \n",
    "    for j in range(v_b.shape[0]):\n",
    "        if k != j and j not in list(range(n)):\n",
    "            dist1 = norm(v_cage[neig1,:]-v_cage[v_b[j],:])\n",
    "            dist2 = norm(v_cage[k,:]-v_cage[v_b[j],:])\n",
    "            dist3 = norm(v_cage[neig2,:]-v_cage[v_b[j],:])\n",
    "            \n",
    "            if dist1 < d1 and dist2 < d1:\n",
    "                z[v_b[j]] = dist1/d1\n",
    "            if dist3 < d2 and dist2 < d2:\n",
    "                z[v_b[j]] = dist3/d2\n",
    "    return z\n",
    "\n",
    "\n",
    "# Find boundary vertices\n",
    "e = igl.boundary_facets(f_cage)\n",
    "v_b = np.unique(e)\n",
    "\n",
    "## List of all vertex indices\n",
    "v_all = np.arange(v_cage.shape[0])\n",
    "\n",
    "## List of interior indices\n",
    "v_in = np.setdiff1d(v_all, v_b)\n",
    "\n",
    "## Construct and slice up Laplacian\n",
    "l = igl.cotmatrix(v_cage, f_cage)\n",
    "l_ii = l[v_in, :][:, v_in]\n",
    "l_ib = l[v_in, :][:, v_b]\n",
    "\n",
    "## List that will hold the harmonic coordinates\n",
    "harmonic_coordinates = np.zeros([n,v_cage.shape[0]])\n",
    "\n",
    "for i in range(v_b.shape[0]):\n",
    "    if i in list(range(n)):\n",
    "        z = get_contraint(i)\n",
    "        bc = z[v_b]\n",
    "        z[v_in] = spsolve(-l_ii, l_ib.dot(bc))\n",
    "        harmonic_coordinates[i,:]= z    \n",
    "        "
   ]
  },
  {
   "cell_type": "markdown",
   "id": "blessed-daniel",
   "metadata": {},
   "source": [
    "<h3 style=\"color: green\">5.- Finding intersection between Mesh Points and Cage Triangles</h3>"
   ]
  },
  {
   "cell_type": "code",
   "execution_count": 13,
   "id": "certified-publication",
   "metadata": {},
   "outputs": [],
   "source": [
    "def find_barycentric_coordinate_tri_2d(p):\n",
    "    barycentric_coordinates = []\n",
    "    face_id = -1\n",
    "    for k in range(f_cage.shape[0]):\n",
    "        Ax = v_cage[f_cage[k,0],0] - v_cage[f_cage[k,2],0] \n",
    "        Ay = v_cage[f_cage[k,0],1] - v_cage[f_cage[k,2],1]\n",
    "        Bx = v_cage[f_cage[k,1],0] - v_cage[f_cage[k,2],0] \n",
    "        By = v_cage[f_cage[k,1],1] - v_cage[f_cage[k,2],1]\n",
    "        Cx = p[0] - v_cage[f_cage[k,2],0]\n",
    "        Cy = p[1] - v_cage[f_cage[k,2],1]\n",
    "        \n",
    "        beta = (Ay*Cx - Ax*Cy)/(Ay*Bx-Ax*By)\n",
    "        alpha = (By*Cx - Bx*Cy)/(By*Ax-Bx*Ay)\n",
    "        \n",
    "        if (alpha <= 1 and alpha >= 0) and (beta <= 1 and beta >= 0) and (alpha+beta<1):\n",
    "            face_id = k\n",
    "            barycentric_coordinates.append([alpha, beta, 1-alpha-beta])\n",
    "        \n",
    "    return [face_id, barycentric_coordinates]\n",
    "\n",
    "# Arrays that will store the barycentric coordinates of each mesh vertex\n",
    "# with respect to the intersection triangle, and id of intersecting triangle\n",
    "barycentric_coordinates = []\n",
    "intersection_id = []\n",
    "\n",
    "for vert in v:\n",
    "    ans = find_barycentric_coordinate_tri_2d(vert)\n",
    "    barycentric_coordinates.append(ans[1][0])\n",
    "    intersection_id.append(ans[0])\n",
    "barycentric_coordinates = np.array(barycentric_coordinates)"
   ]
  },
  {
   "cell_type": "markdown",
   "id": "composed-adaptation",
   "metadata": {},
   "source": [
    "<h3 style=\"color: green\">6.- Deforming Cage Vertex Deforming Mesh by Using Harmonic Coordinates and Barycentric Coordinates</h3>"
   ]
  },
  {
   "cell_type": "code",
   "execution_count": 14,
   "id": "statistical-bulgarian",
   "metadata": {},
   "outputs": [],
   "source": [
    "v_cage_2 = np.hstack((v_cage,np.zeros([v_cage.shape[0],1])))\n",
    "v_modified = v.copy()\n",
    "handle_vertices = v_cage_2.copy()\n",
    "pos_f_saver = np.zeros((n, 3))\n",
    "\n",
    "def pos_f(s,x,y):\n",
    "    handle_vertices[int(s)] = v_cage_2[int(s)] + np.array([[x,y,0]])\n",
    "    pos_f_saver[int(s) - 1] = [x,y,0]\n",
    "    t0 = time.time()\n",
    "    v_deformed_cage = pos_deformer_cage(handle_vertices)\n",
    "    p.update_object(oid=0,vertices = v_deformed_cage)\n",
    "    v_deformed_mesh = pos_deformer_mesh(v_deformed_cage)\n",
    "    p.update_object(oid=1,vertices = v_deformed_mesh)\n",
    "    t1 = time.time()\n",
    "    print('FPS', 1/(t1 - t0))\n",
    "\n",
    "def pos_deformer_cage(vertices):\n",
    "    for vi in v_in:\n",
    "        total = np.zeros(3)\n",
    "        for vc in range(n):\n",
    "            total += vertices[vc,:] * harmonic_coordinates[vc,vi]\n",
    "        vertices[vi] = total\n",
    "        \n",
    "    for vb in np.setdiff1d(v_b,list(range(n))):\n",
    "        total2 = np.zeros(3)\n",
    "        for vc in range(n):\n",
    "            total2 += vertices[vc,:] * harmonic_coordinates[vc,vb]\n",
    "        vertices[vb] = total2\n",
    "        \n",
    "    return vertices\n",
    "\n",
    "def pos_deformer_mesh(vertices):\n",
    "    for idx, value in enumerate(intersection_id):\n",
    "        v_modified[idx,:] = (vertices[f_cage[value,0],:] * barycentric_coordinates[idx,0] \n",
    "                           + vertices[f_cage[value,1],:] * barycentric_coordinates[idx,1] \n",
    "                           + vertices[f_cage[value,2],:] * barycentric_coordinates[idx,2])  \n",
    "    return v_modified\n",
    "        \n",
    "        \n",
    "\n",
    "def widgets_wrapper():\n",
    "    segment_widget = iw.Dropdown(options=list(range(n)))\n",
    "    translate_widget = {i:iw.FloatSlider(min=-5, max=5, value=0, step=0.01) \n",
    "                        for i in 'xy'}\n",
    "\n",
    "    def update_seg(*args):\n",
    "        (translate_widget['x'].value,translate_widget['y'].value,\n",
    "        _) = pos_f_saver[segment_widget.value]\n",
    "    segment_widget.observe(update_seg, 'value')\n",
    "    widgets_dict = dict(s=segment_widget)\n",
    "    widgets_dict.update(translate_widget)\n",
    "    return widgets_dict"
   ]
  },
  {
   "cell_type": "code",
   "execution_count": 17,
   "id": "other-nickel",
   "metadata": {},
   "outputs": [
    {
     "data": {
      "application/vnd.jupyter.widget-view+json": {
       "model_id": "13d95249eb9e4ad28d4b2351efcd0e29",
       "version_major": 2,
       "version_minor": 0
      },
      "text/plain": [
       "Renderer(camera=PerspectiveCamera(aspect=1.3333333333333333, children=(DirectionalLight(color='white', intensi…"
      ]
     },
     "metadata": {},
     "output_type": "display_data"
    },
    {
     "data": {
      "application/vnd.jupyter.widget-view+json": {
       "model_id": "352c29d87cae46a18455c92f1e605120",
       "version_major": 2,
       "version_minor": 0
      },
      "text/plain": [
       "interactive(children=(Dropdown(description='s', options=(0, 1, 2, 3, 4, 5), value=0), FloatSlider(value=0.0, d…"
      ]
     },
     "metadata": {},
     "output_type": "display_data"
    },
    {
     "data": {
      "text/plain": [
       "<function __main__.pos_f(s, x, y)>"
      ]
     },
     "execution_count": 17,
     "metadata": {},
     "output_type": "execute_result"
    }
   ],
   "source": [
    "## Widget UI\n",
    "p = mp.plot(handle_vertices, f_cage, c=colors_cage, shading={\"width\": 400, \"height\": 300})\n",
    "p.add_mesh(v,f)\n",
    "\"\"\"The cage is shown in grey\"\"\"\n",
    "iw.interact(pos_f,\n",
    "            **widgets_wrapper())"
   ]
  },
  {
   "cell_type": "code",
   "execution_count": null,
   "id": "intelligent-shift",
   "metadata": {},
   "outputs": [],
   "source": []
  }
 ],
 "metadata": {
  "kernelspec": {
   "display_name": "Python 3",
   "language": "python",
   "name": "python3"
  },
  "language_info": {
   "codemirror_mode": {
    "name": "ipython",
    "version": 3
   },
   "file_extension": ".py",
   "mimetype": "text/x-python",
   "name": "python",
   "nbconvert_exporter": "python",
   "pygments_lexer": "ipython3",
   "version": "3.9.1"
  }
 },
 "nbformat": 4,
 "nbformat_minor": 5
}
