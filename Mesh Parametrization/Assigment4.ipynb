{
 "cells": [
  {
   "cell_type": "markdown",
   "metadata": {},
   "source": [
    "# Assigment 4"
   ]
  },
  {
   "cell_type": "code",
   "execution_count": 44,
   "metadata": {},
   "outputs": [],
   "source": [
    "import math\n",
    "import numpy as np\n",
    "import numpy.matlib\n",
    "import scipy.sparse as sp\n",
    "import matplotlib.pyplot as plt\n",
    "import pandas as pd\n",
    "\n",
    "import igl\n",
    "import meshplot as mp\n",
    "\n",
    "from math import sqrt"
   ]
  },
  {
   "cell_type": "markdown",
   "metadata": {},
   "source": [
    "# Reading the Triangle Mesh and Constraint Data "
   ]
  },
  {
   "cell_type": "code",
   "execution_count": 13,
   "metadata": {},
   "outputs": [],
   "source": [
    "v, f = igl.read_triangle_mesh(\"data/irr4-cyl2.off\")\n",
    "tt, _ = igl.triangle_triangle_adjacency(f)\n",
    "\n",
    "c = np.loadtxt(\"data/irr4-cyl2.constraints\")\n",
    "cf = c[:, 0].astype(np.int64)\n",
    "c = c[:, 1:]"
   ]
  },
  {
   "cell_type": "markdown",
   "metadata": {},
   "source": [
    "# Function that computes the Vector Field using Soft Constraints"
   ]
  },
  {
   "cell_type": "code",
   "execution_count": 14,
   "metadata": {},
   "outputs": [],
   "source": [
    "def align_field(V, F, TT, soft_id, soft_value, llambda):\n",
    "    assert(soft_id[0] > 0)\n",
    "    assert(soft_id.shape[0] == soft_value.shape[0])\n",
    "\n",
    "    \n",
    "    # Edges\n",
    "    e1 = V[F[:, 1], :] - V[F[:, 0], :]\n",
    "    e2 = V[F[:, 2], :] - V[F[:, 0], :]\n",
    "\n",
    "    # Compute the local reference systems for each face, T1, T2\n",
    "    T1 = e1 / np.linalg.norm(e1, axis=1)[:,None]\n",
    "        \n",
    "    T2 =  np.cross(T1, np.cross(T1, e2))\n",
    "    T2 /= np.linalg.norm(T2, axis=1)[:,None]\n",
    "  \n",
    "    # Arrays for the entries of the matrix\n",
    "    data = []\n",
    "    ii = []\n",
    "    jj = []\n",
    "    \n",
    "    index = 0\n",
    "    for f in range(F.shape[0]):\n",
    "        for ei in range(3): # Loop over the edges\n",
    "            \n",
    "            # Look up the opposite face\n",
    "            g = TT[f, ei]\n",
    "            \n",
    "            # If it is a boundary edge, it does not contribute to the energy\n",
    "            # or avoid to count every edge twice\n",
    "            if g == -1 or f > g:\n",
    "                continue\n",
    "                \n",
    "            # Compute the complex representation of the common edge\n",
    "            e  = V[F[f, (ei+1)%3], :] - V[F[f, ei], :]\n",
    "            \n",
    "            vef = np.array([np.dot(e, T1[f, :]), np.dot(e, T2[f, :])])\n",
    "            vef /= np.linalg.norm(vef)\n",
    "            ef = (vef[0] + vef[1]*1j).conjugate()\n",
    "            \n",
    "            veg = np.array([np.dot(e, T1[g, :]), np.dot(e, T2[g, :])])\n",
    "            veg /= np.linalg.norm(veg)\n",
    "            eg = (veg[0] + veg[1]*1j).conjugate()\n",
    "            \n",
    "            \n",
    "            # Add the term conj(f)^n*ui - conj(g)^n*uj to the energy matrix\n",
    "            data.append(ef);  ii.append(index); jj.append(f)\n",
    "            data.append(-eg); ii.append(index); jj.append(g)\n",
    "\n",
    "            index += 1\n",
    "            \n",
    "    \n",
    "    sqrtl = sqrt(llambda)\n",
    "    \n",
    "    # Convert the constraints into the complex polynomial coefficients and add them as soft constraints\n",
    "    \n",
    "    # Rhs of the system\n",
    "    b = np.zeros(index + soft_id.shape[0], dtype=complex)\n",
    "    \n",
    "    for ci in range(soft_id.shape[0]):\n",
    "        f = soft_id[ci]\n",
    "        v = soft_value[ci, :]\n",
    "        \n",
    "        # Project on the local frame\n",
    "        c = np.dot(v, T1[f, :]) + np.dot(v, T2[f, :])*1j\n",
    "        \n",
    "        data.append(sqrtl); ii.append(index); jj.append(f)\n",
    "        b[index] = c * sqrtl\n",
    "        \n",
    "        index += 1\n",
    "    \n",
    "    assert(b.shape[0] == index)\n",
    "    \n",
    "    \n",
    "    # Solve the linear system\n",
    "    A = sp.coo_matrix((data, (ii, jj)), shape=(index, F.shape[0])).asformat(\"csr\")\n",
    "    u = sp.linalg.spsolve(A.H @ A, A.H @ b)\n",
    "    \n",
    "    R = T1 * u.real[:,None] + T2 * u.imag[:,None]\n",
    "\n",
    "    return R"
   ]
  },
  {
   "cell_type": "markdown",
   "metadata": {},
   "source": [
    "# Plot of Traingle Mesh with Vector Field and Soft Constraint "
   ]
  },
  {
   "cell_type": "code",
   "execution_count": 15,
   "metadata": {},
   "outputs": [],
   "source": [
    "def plot_mesh_field(V, F, R, constrain_faces):\n",
    "    # Highlight in red the constrained faces\n",
    "    col = np.ones_like(f)\n",
    "    col[constrain_faces, 1:] = 0\n",
    "    \n",
    "    # Scaling of the representative vectors\n",
    "    avg = igl.avg_edge_length(V, F)/2\n",
    "\n",
    "    #Plot from face barycenters\n",
    "    B = igl.barycenter(V, F)\n",
    "\n",
    "    p = mp.plot(V, F, c=col)\n",
    "    p.add_lines(B, B + R * avg)\n",
    "    \n",
    "    return p"
   ]
  },
  {
   "cell_type": "code",
   "execution_count": 16,
   "metadata": {},
   "outputs": [
    {
     "data": {
      "application/vnd.jupyter.widget-view+json": {
       "model_id": "5a61170f2bfc4bc68fb0a052f503062a",
       "version_major": 2,
       "version_minor": 0
      },
      "text/plain": [
       "Renderer(camera=PerspectiveCamera(children=(DirectionalLight(color='white', intensity=0.6, position=(0.0, 0.0,…"
      ]
     },
     "metadata": {},
     "output_type": "display_data"
    }
   ],
   "source": [
    "R_soft = align_field(v, f, tt, cf, c, 1e6)\n",
    "p = plot_mesh_field(v, f, R_soft, cf)"
   ]
  },
  {
   "cell_type": "markdown",
   "metadata": {},
   "source": [
    "# Function that computes the Vector Field using Hard Constraints"
   ]
  },
  {
   "cell_type": "code",
   "execution_count": 17,
   "metadata": {},
   "outputs": [],
   "source": [
    "def align_field(V, F, TT, constraint_id, constraint_value):\n",
    "    assert(constraint_id[0] > 0)\n",
    "    assert(constraint_id.shape[0] == constraint_value.shape[0])\n",
    "\n",
    "    \n",
    "    # Edges\n",
    "    e1 = V[F[:, 1], :] - V[F[:, 0], :]\n",
    "    e2 = V[F[:, 2], :] - V[F[:, 0], :]\n",
    "\n",
    "    # Compute the local reference systems for each face, T1, T2\n",
    "    T1 = e1 / np.linalg.norm(e1, axis=1)[:,None]\n",
    "        \n",
    "    T2 =  np.cross(T1, np.cross(T1, e2))\n",
    "    T2 /= np.linalg.norm(T2, axis=1)[:,None]\n",
    "  \n",
    "    # Arrays for the entries of the matrix\n",
    "    data = []\n",
    "    ii = []\n",
    "    jj = []\n",
    "    indices = []\n",
    "    \n",
    "    index = 0\n",
    "    for f in range(F.shape[0]):\n",
    "        for ei in range(3): # Loop over the edges\n",
    "            \n",
    "            # Look up the opposite face\n",
    "            g = TT[f, ei]\n",
    "            \n",
    "            # If it is a boundary edge, it does not contribute to the energy\n",
    "            # or avoid to count every edge twice\n",
    "            if g == -1 or f > g:\n",
    "                continue\n",
    "                \n",
    "            # Compute the complex representation of the common edge\n",
    "            e  = V[F[f, (ei+1)%3], :] - V[F[f, ei], :]\n",
    "            \n",
    "            vef = np.array([np.dot(e, T1[f, :]), np.dot(e, T2[f, :])])\n",
    "            vef /= np.linalg.norm(vef)\n",
    "            ef = (vef[0] + vef[1]*1j).conjugate()\n",
    "            \n",
    "            veg = np.array([np.dot(e, T1[g, :]), np.dot(e, T2[g, :])])\n",
    "            veg /= np.linalg.norm(veg)\n",
    "            eg = (veg[0] + veg[1]*1j).conjugate()\n",
    "            \n",
    "            \n",
    "            # Add the term conj(f)^n*ui - conj(g)^n*uj to the energy matrix\n",
    "            data.append(ef);  ii.append(index); jj.append(f)\n",
    "            data.append(-eg); ii.append(index); jj.append(g)\n",
    "            \n",
    "            # Saves the faces that do not contain a constraint\n",
    "            if (f not in constraint_id) and (f not in indices):\n",
    "                indices.append(f)\n",
    "            if (g not in constraint_id) and (g not in indices):\n",
    "                indices.append(g)\n",
    "\n",
    "            index += 1\n",
    "            \n",
    "    # Constructing Matrix Q\n",
    "    A = sp.coo_matrix((data, (ii, jj)), shape=(index, F.shape[0])).asformat(\"csr\")\n",
    "    Q = (A.H@A).todense()\n",
    "    \n",
    "    # constructing vector b and x\n",
    "    b = np.zeros([F.shape[0],1], dtype=complex)\n",
    "    x = np.zeros([F.shape[0],1], dtype=complex)\n",
    "    \n",
    "    # Constructing the Matrices Qff, Qfc and vector bf\n",
    "    for ci in range(constraint_id.shape[0]):\n",
    "        f = constraint_id[ci]\n",
    "        v = constraint_value[ci, :]\n",
    "        # Project on the local frame\n",
    "        c = np.dot(v, T1[f, :]) + np.dot(v, T2[f, :])*1j\n",
    "        x[f,0] = c \n",
    "        \n",
    "    xc = x[constraint_id,:]    \n",
    "    Qff = Q[indices,:][:,indices]\n",
    "    Qfc = Q[:,constraint_id][indices,:]\n",
    "    bf = b[indices,:] - Qfc@xc\n",
    "    \n",
    "    # Solving the linear system\n",
    "    x[indices] = sp.linalg.spsolve(Qff, bf).reshape((len(indices),1))\n",
    "    \n",
    "    # Transforming back to 3D Coordinates\n",
    "    R = T1 * x[:,0].real[:,None] + T2 * x[:,0].imag[:,None]\n",
    "\n",
    "    return R"
   ]
  },
  {
   "cell_type": "markdown",
   "metadata": {},
   "source": [
    "# Plot of Traingle Mesh with Vector Field and Hard Constraints"
   ]
  },
  {
   "cell_type": "code",
   "execution_count": 45,
   "metadata": {},
   "outputs": [
    {
     "data": {
      "application/vnd.jupyter.widget-view+json": {
       "model_id": "0ffc06360f4045a6932e11914a14139f",
       "version_major": 2,
       "version_minor": 0
      },
      "text/plain": [
       "Renderer(camera=PerspectiveCamera(children=(DirectionalLight(color='white', intensity=0.6, position=(0.0, 0.0,…"
      ]
     },
     "metadata": {},
     "output_type": "display_data"
    }
   ],
   "source": [
    "R_hard = align_field(v, f, tt, cf, c)\n",
    "filename = 'vector_field_with_hard_constraints'\n",
    "np.savetxt(filename, R_hard)\n",
    "p = plot_mesh_field(v, f, R_hard, cf)"
   ]
  },
  {
   "cell_type": "markdown",
   "metadata": {},
   "source": [
    "# Reconstructing a scalar field from a vector field"
   ]
  },
  {
   "cell_type": "markdown",
   "metadata": {},
   "source": [
    "We to find a scalar function S(x) defined over the surface whose gradient fits a given vector field as closely as possible. The scalar field is defined by values on the mesh vertices that are linearly interpolated over each triangle's interior: for given vertex values si, the function S(x) inside a triangle t is computed as \n",
    "\n",
    "$$\n",
    "S_t(x) = \\sum_{vertices \\, i \\, \\in \\, t}^{3} s_i \\, \\phi_i^t(x)\n",
    "$$\n",
    "\n",
    "where $\\phi_i^t(x)$ are the linear \"hat\" functions associated with each triangle vertex. Then the scalar function's gradient is \n",
    "\n",
    "$$\n",
    "g_t(x) = \\sum_{vertices \\, i \\, \\in \\, t}^{3}s_i \\, \\nabla \\phi_i^t(x)\n",
    "$$\n",
    "\n",
    "Since the \"hat\" functions are piecewise linear, their gradients are constant within each triangle, and so is $g_t$. Specifically, $g_t$ is a linear combination of the constant hat function gradients with the (unknown) values $s_i$ as coefficients, meaning that we can write an expression of the form $g = G\\,s$.\n",
    "\n",
    "Since there is no guarantee that our interpolated face-based field is actually the gradient of some function, we cannot attempt to integrate it directly. Instead, we will try to find S(x) by asking its gradient to approximate the vector field u in the least-squares sense: \n",
    "\n",
    "$$\n",
    "\\begin{align*}\n",
    "\\min \\sum_{face \\, t} A_t \\mid g_t - u_t \\mid^2 &= \\min  A\\ \\mid G \\, s - u \\, \\mid^2 \\\\\n",
    "&= \\min \\,(G \\, s - u)^T \\, A \\, (G \\, s - u) \\\\\n",
    "&= \\min \\, (s^T \\, G^T \\,A \\, G \\, s - s^T \\, G^T \\, A \\, u - u^T \\, A \\, G \\, s + u^T \\,A \\, u) \\\\\n",
    "&= \\min \\, (s^T \\, G^T \\, A \\, G \\, s - 2 \\, s^T \\, G^T \\, A \\, u + u^T \\, A \\, u) \\\\\n",
    "&= \\min (s^T \\, K \\, s + \\, s^T \\, b + c) \\\\\n",
    "\\end{align*}\n",
    "$$\n",
    "\n",
    "where $A_t$ is triangle $t$'s area, $g_t$ is the (unknown) function gradient on the triangle, and $u_t$ is the triangle's vector assigned by the guiding vector field. Therefore, we have that\n",
    "\n",
    "$$\n",
    "\\begin{align*}\n",
    "K \\, s +  b = 0 \\\\\n",
    "K \\, s = -b\n",
    "\\end{align*}\n",
    "$$\n",
    "where $K = G^T \\, A\\, G$ and $b = - \\, G^T \\, A \\, u$"
   ]
  },
  {
   "cell_type": "code",
   "execution_count": 46,
   "metadata": {},
   "outputs": [],
   "source": [
    "# Calcalating Triangle Areas A_t\n",
    "A_t = igl.doublearea(v,f)\n",
    "A_t = np.matlib.repmat(A_t, 1, 3)\n",
    "n = A_t.shape[1]\n",
    "A_t = A_t.reshape((n,))\n",
    "A = sp.coo_matrix(np.diag(A_t))\n",
    "\n",
    "# Calcalating Gradient Matrix G\n",
    "G = igl.grad(v,f)\n",
    "\n",
    "K = G.T@(A@G)\n",
    "R1 = R_hard.copy()\n",
    "Rx = R1[:,0]\n",
    "Ry = R1[:,1]\n",
    "Rz = R1[:,2]\n",
    "x = np.concatenate((Rx,Ry,Rz))\n",
    "b = -(G.T@(A@x))\n",
    "\n",
    "s = sp.linalg.spsolve(K, -b)\n",
    "S = (G@s)\n",
    "S = np.reshape(S,f.shape,order=\"F\")\n",
    "\n",
    "# Saving scalar field \n",
    "filename = 'scalar_field_values'\n",
    "np.savetxt(filename, s)"
   ]
  },
  {
   "cell_type": "code",
   "execution_count": 28,
   "metadata": {},
   "outputs": [],
   "source": [
    "def plot_mesh_with_scalar_field(V, F, S_f, s_v):\n",
    "    # Visualization of computed scalar function and its gradient.\n",
    "    # Scaling of the representative vectors\n",
    "    S_f_mag = np.linalg.norm(S_f, axis=1)\n",
    "    avg = igl.avg_edge_length(V, F) / 2\n",
    "\n",
    "    #Plot from face barycenters\n",
    "    B = igl.barycenter(V, F)\n",
    "\n",
    "    # Plot\n",
    "    q = mp.plot(V, F, s_v)\n",
    "    q.add_lines(B, B + avg * S_f, shading={\"line_color\": \"black\"})"
   ]
  },
  {
   "cell_type": "code",
   "execution_count": 29,
   "metadata": {},
   "outputs": [
    {
     "data": {
      "application/vnd.jupyter.widget-view+json": {
       "model_id": "c85a6fb2c53d4928a60813383f12159c",
       "version_major": 2,
       "version_minor": 0
      },
      "text/plain": [
       "Renderer(camera=PerspectiveCamera(children=(DirectionalLight(color='white', intensity=0.6, position=(0.0, 0.0,…"
      ]
     },
     "metadata": {},
     "output_type": "display_data"
    }
   ],
   "source": [
    "# Plot of Triangle mesh with Scalar field\n",
    "plot_mesh_with_scalar_field(v, f, S, s)"
   ]
  },
  {
   "cell_type": "code",
   "execution_count": 30,
   "metadata": {},
   "outputs": [
    {
     "data": {
      "text/plain": [
       "7.3759924243369746"
      ]
     },
     "execution_count": 30,
     "metadata": {},
     "output_type": "execute_result"
    }
   ],
   "source": [
    "# Gaussian Approximation Error\n",
    "Err = np.linalg.norm(R_hard-S)\n",
    "Err"
   ]
  },
  {
   "cell_type": "markdown",
   "metadata": {},
   "source": [
    "# Harmonic and LSCM Parameterizations"
   ]
  },
  {
   "cell_type": "markdown",
   "metadata": {},
   "source": [
    "For this task, we will experiment with flattening a mesh with a boundary onto the plane using two parameterization methods: harmonic and Least Squares Conformal (LSCM) parameterization. In both cases, two scalar fields, U and V, are computed over the mesh. The per-vertex (u, v) scalars defining these coordinate functions determine the vertices' flattened positions in the plane (the flattening is linearly interpolated within each triangle).\n",
    "\n",
    "<h3> Harmonic Parametrization </h3>\n",
    "For the harmonic parametrization example, you will first map the mesh boundary to a unit circle in the UV plane centered at the origin. The boundary U and V coordinates are then \"harmonically interpolated\" into the interior by solving the Laplace equation with Dirichlet boundary conditions (setting the Laplacian of U equal to zero at each interior vertex, then doing the same for V). This involves two separate linear system solves (each with the same system matrix)"
   ]
  },
  {
   "cell_type": "code",
   "execution_count": 31,
   "metadata": {},
   "outputs": [
    {
     "data": {
      "application/vnd.jupyter.widget-view+json": {
       "model_id": "fae215a6f7b24e58a515c81b8cc87b0f",
       "version_major": 2,
       "version_minor": 0
      },
      "text/plain": [
       "HBox(children=(Output(), Output()))"
      ]
     },
     "metadata": {},
     "output_type": "display_data"
    }
   ],
   "source": [
    "# Reading the data\n",
    "v, f  = igl.read_triangle_mesh(\"data/camel_head.off\")\n",
    "\n",
    "# Find the open boundary\n",
    "bnd = igl.boundary_loop(f)\n",
    "\n",
    "# Map the boundary to a circle, preserving edge proportions\n",
    "bnd_uv = igl.map_vertices_to_circle(v, bnd)\n",
    "\n",
    "# Harmonic parametrization for the internal vertices\n",
    "uv = igl.harmonic_weights(v, f, bnd, bnd_uv, 1)\n",
    "v_p = np.hstack([uv, np.zeros((uv.shape[0],1))])\n",
    "\n",
    "p = mp.subplot(v, f, uv=uv, shading={\"wireframe\": False, \"flat\": False}, s=[1, 2, 0])\n",
    "mp.subplot(v_p, f, uv=uv, shading={\"wireframe\": True, \"flat\": False}, s=[1, 2, 1], data=p)\n"
   ]
  },
  {
   "cell_type": "code",
   "execution_count": 32,
   "metadata": {},
   "outputs": [
    {
     "data": {
      "application/vnd.jupyter.widget-view+json": {
       "model_id": "25cb544134f4471f86af2fa10be78587",
       "version_major": 2,
       "version_minor": 0
      },
      "text/plain": [
       "Renderer(camera=PerspectiveCamera(children=(DirectionalLight(color='white', intensity=0.6, position=(1.9967555…"
      ]
     },
     "metadata": {},
     "output_type": "display_data"
    }
   ],
   "source": [
    "# Plot of Triangle Mesh with Scalar Field using Harmonic Parametrization\n",
    "\n",
    "# Calculating the gradient\n",
    "u_field = uv[:,0]\n",
    "G = igl.grad(v,f)\n",
    "grad = G@u_field\n",
    "grad = grad.reshape(f.shape,order=\"F\")\n",
    "plot_mesh_with_scalar_field(v, f, grad, u_field)"
   ]
  },
  {
   "cell_type": "markdown",
   "metadata": {},
   "source": [
    "<h3>LSCM Parameterizations</h3>\n",
    "\n",
    "In LSCM, the boundary is free, with the exception of two vertices that must be fixed at two different locations in the UV-plane (to pin down a global position, rotation, and scaling factor). These vertices can be chosen arbitrarily. The process is again a linear system solve, but in this case the U and V functions are entwined into a single linear system."
   ]
  },
  {
   "cell_type": "code",
   "execution_count": 33,
   "metadata": {},
   "outputs": [
    {
     "data": {
      "application/vnd.jupyter.widget-view+json": {
       "model_id": "d23070e42bbf45478ad565f58b584209",
       "version_major": 2,
       "version_minor": 0
      },
      "text/plain": [
       "HBox(children=(Output(), Output()))"
      ]
     },
     "metadata": {},
     "output_type": "display_data"
    }
   ],
   "source": [
    "# Fix two points on the boundary\n",
    "b = np.array([2, 1])\n",
    "\n",
    "bnd = igl.boundary_loop(f)\n",
    "b[0] = bnd[0]\n",
    "b[1] = bnd[int(bnd.size / 2)]\n",
    "\n",
    "bc = np.array([[0.0, 0.0], [1.0, 0.0]])\n",
    "\n",
    "# LSCM parametrization\n",
    "_, uv = igl.lscm(v, f, b, bc)\n",
    "\n",
    "p = mp.subplot(v, f, uv=uv, shading={\"wireframe\": False, \"flat\": False}, s=[1, 2, 0])\n",
    "mp.subplot(uv, f, uv=uv, shading={\"wireframe\": True, \"flat\": False}, s=[1, 2, 1], data=p)"
   ]
  },
  {
   "cell_type": "code",
   "execution_count": 34,
   "metadata": {},
   "outputs": [
    {
     "data": {
      "application/vnd.jupyter.widget-view+json": {
       "model_id": "7a8e06a838cc49368612082068904528",
       "version_major": 2,
       "version_minor": 0
      },
      "text/plain": [
       "Renderer(camera=PerspectiveCamera(children=(DirectionalLight(color='white', intensity=0.6, position=(1.9967555…"
      ]
     },
     "metadata": {},
     "output_type": "display_data"
    }
   ],
   "source": [
    "# Plot of Triangle Mesh with Scalar Field using LSCM Parametrization\n",
    "\n",
    "# Calculating the gradient\n",
    "v_field = uv[:,1]\n",
    "G = igl.grad(v,f)\n",
    "grad = G@v_field\n",
    "grad = grad.reshape(f.shape,order=\"F\")\n",
    "plot_mesh_with_scalar_field(v, f, grad, v_field)"
   ]
  },
  {
   "cell_type": "markdown",
   "metadata": {},
   "source": [
    "# Editing a parameterization with vector fields\n",
    "\n",
    "<h3>Editing the parameterization</h3>"
   ]
  },
  {
   "cell_type": "code",
   "execution_count": 41,
   "metadata": {},
   "outputs": [
    {
     "data": {
      "application/vnd.jupyter.widget-view+json": {
       "model_id": "508261f2a905465884175ad2c882a716",
       "version_major": 2,
       "version_minor": 0
      },
      "text/plain": [
       "HBox(children=(Output(), Output()))"
      ]
     },
     "metadata": {},
     "output_type": "display_data"
    }
   ],
   "source": [
    "v, f = igl.read_triangle_mesh(\"data/irr4-cyl2.off\")\n",
    "\n",
    "# Find the open boundary\n",
    "bnd = igl.boundary_loop(f)\n",
    "\n",
    "# Map the boundary to a circle, preserving edge proportions\n",
    "bnd_uv = igl.map_vertices_to_circle(v, bnd)\n",
    "\n",
    "# Harmonic parametrization for the internal vertices\n",
    "uv = igl.harmonic_weights(v, f, bnd, bnd_uv, 1)\n",
    "\n",
    "p = mp.subplot(v, f, uv=uv, shading={\"wireframe\": False}, s=[1, 2, 0])\n",
    "mp.subplot(uv, f, uv=uv, shading={\"wireframe\": True, \"flat\": False}, s=[1, 2, 1], data=p)"
   ]
  },
  {
   "cell_type": "markdown",
   "metadata": {},
   "source": [
    "<h3>Detecting problems with the parameterization</h3>"
   ]
  },
  {
   "cell_type": "code",
   "execution_count": 54,
   "metadata": {},
   "outputs": [
    {
     "data": {
      "application/vnd.jupyter.widget-view+json": {
       "model_id": "64b991eb35bb45ecbdf49d0bcb746ce2",
       "version_major": 2,
       "version_minor": 0
      },
      "text/plain": [
       "HBox(children=(Output(), Output()))"
      ]
     },
     "metadata": {},
     "output_type": "display_data"
    }
   ],
   "source": [
    "uv_new = uv.copy()\n",
    "uv_new[:,1] = s\n",
    "v_p = np.hstack([uv_new, np.zeros((uv_new.shape[0],1))])\n",
    "\n",
    "# Computing Normals\n",
    "normals = igl.per_face_normals(v_p, f, np.array([0.0, 0.0, 0.0]))\n",
    "flip_face_index = np.where(normals[:,-1] >= 0.0)[0]\n",
    "non_flip_face_index = np.where(normals[:,-1] < 0.0)[0]\n",
    "col = np.ones_like(f)\n",
    "col[flip_face_index, 1:] = 0\n",
    "col[non_flip_face_index, 1:] = 1\n",
    "\n",
    "p = mp.subplot(v, f, uv=uv_new, shading={\"wireframe\": False}, s=[1, 2, 0])\n",
    "mp.subplot(uv_new, f, c=col, shading={\"wireframe\": True}, s=[1, 2, 1], data=p)"
   ]
  },
  {
   "cell_type": "code",
   "execution_count": 58,
   "metadata": {},
   "outputs": [],
   "source": [
    "# Saving flipped triangles to file\n",
    "filename = 'flipped_triangles'\n",
    "np.savetxt(filename, f[flip_face_index])"
   ]
  },
  {
   "cell_type": "code",
   "execution_count": null,
   "metadata": {},
   "outputs": [],
   "source": []
  },
  {
   "cell_type": "code",
   "execution_count": null,
   "metadata": {},
   "outputs": [],
   "source": []
  }
 ],
 "metadata": {
  "kernelspec": {
   "display_name": "Python 3",
   "language": "python",
   "name": "python3"
  },
  "language_info": {
   "codemirror_mode": {
    "name": "ipython",
    "version": 3
   },
   "file_extension": ".py",
   "mimetype": "text/x-python",
   "name": "python",
   "nbconvert_exporter": "python",
   "pygments_lexer": "ipython3",
   "version": "3.9.1"
  }
 },
 "nbformat": 4,
 "nbformat_minor": 4
}
