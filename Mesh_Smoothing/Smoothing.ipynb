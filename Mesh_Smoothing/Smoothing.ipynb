{
 "cells": [
  {
   "cell_type": "markdown",
   "id": "general-steering",
   "metadata": {},
   "source": [
    "<h1 style=\"text-align: center; color: blue\">Mesh Smoothing</h1>\n",
    "\n",
    "Mesh smoothing is concerned with the design and computation of smooth functions $f : S \\rightarrow \\mathbf{R}^d$ on a triangle mesh. The function $f$ can flexibly be chosen to describe, for instance, vertex positions, texture coordinates, or vertex displacements. In this notebook, I will show how to perform mesh smoothing using several techniques based on denoising and fairing.\n",
    "\n",
    "Denoising is used to remove high-frequency noise from the function $f$. In most cases, $f$ denotes the vertex positions, which might be corrupted by high frequency noise due to a physical scanning process. Removing the noise (the high frequencies) and keeping the overall shape (the low frequencies) requires generalizing the concepts of frequencies and low-pass filters to functions living on discrete triangle meshes. \n",
    "\n",
    "Mesh fairing does not just slightly smooth the function $f$ in order to remove the high frequency noise. It also smooths the function as much as possible in order to obtain, e.g., an as-smooth- as-possible surface patch or an as-smooth-as-possible shape deformation.\n",
    "\n",
    "[Polygon Mesh Processing by M. Botsch et al]"
   ]
  },
  {
   "cell_type": "code",
   "execution_count": 2,
   "id": "suitable-mustang",
   "metadata": {},
   "outputs": [],
   "source": [
    "# importing all libraries\n",
    "import numpy as np\n",
    "import igl\n",
    "import meshplot as mp\n",
    "import scipy.sparse as sp\n",
    "import igl"
   ]
  },
  {
   "cell_type": "code",
   "execution_count": 157,
   "id": "horizontal-opinion",
   "metadata": {},
   "outputs": [
    {
     "data": {
      "application/vnd.jupyter.widget-view+json": {
       "model_id": "6469e4dc96a04c50bdad0b7fb13924e8",
       "version_major": 2,
       "version_minor": 0
      },
      "text/plain": [
       "Renderer(camera=PerspectiveCamera(children=(DirectionalLight(color='white', intensity=0.6, position=(-0.016860…"
      ]
     },
     "metadata": {},
     "output_type": "display_data"
    },
    {
     "data": {
      "text/plain": [
       "<meshplot.Viewer.Viewer at 0x7f85a7aea5e0>"
      ]
     },
     "execution_count": 157,
     "metadata": {},
     "output_type": "execute_result"
    }
   ],
   "source": [
    "# Read the mesh data\n",
    "v, f = igl.read_triangle_mesh(\"data/bunny.off\")\n",
    "\n",
    "n = igl.per_vertex_normals(v, f)\n",
    "c = np.linalg.norm(n, axis=1)\n",
    "\n",
    "mp.plot(v,f,n,shading={\"wireframe\":True, \"width\":400, \"height\":400})"
   ]
  },
  {
   "cell_type": "markdown",
   "id": "emotional-explosion",
   "metadata": {},
   "source": [
    "<h3 style=\"color: #9933ff;\"> Smoothing By Diffusion Flow </h3>\n",
    "\n",
    "Diffusion flow is modeled by the diffusion equation \n",
    "\n",
    "$$\\frac{\\partial f(x,t)}{\\partial t} = \\lambda \\nabla f(x,t)$$\n",
    "\n",
    "For our smoothing purposes, $f$ here means the vertex position. We can employ the diffusion equation to smooth an arbitrary function $f : S \\rightarrow \\mathbb{R}$ on a manifold surface $S$, simply by replacing the regular Laplace operator by the manifold Laplace-Beltrami, (i.e. $\\nabla p = Lp$), where $L$ is the Laplace-Beltrami operator. Thus by discretizing the time partial derivative using forward-euler, we get:\n",
    "\n",
    "$$\\hat{p} = p + \\lambda hL p$$\n",
    "\n",
    "<h4> Explicit Smoothing </h4>"
   ]
  },
  {
   "cell_type": "code",
   "execution_count": 162,
   "id": "detailed-monkey",
   "metadata": {},
   "outputs": [
    {
     "data": {
      "application/vnd.jupyter.widget-view+json": {
       "model_id": "c8ae1222b0d84d08a394678e0a61a558",
       "version_major": 2,
       "version_minor": 0
      },
      "text/plain": [
       "Renderer(camera=PerspectiveCamera(children=(DirectionalLight(color='white', intensity=0.6, position=(-0.016860…"
      ]
     },
     "metadata": {},
     "output_type": "display_data"
    },
    {
     "data": {
      "text/plain": [
       "1"
      ]
     },
     "execution_count": 162,
     "metadata": {},
     "output_type": "execute_result"
    }
   ],
   "source": [
    "# Smoothing using cotangent Laplacian\n",
    "L = igl.cotmatrix(v,f)\n",
    "\n",
    "alpha = 0.02\n",
    "iterations = 10000\n",
    "v_smooth = v.copy()\n",
    "\n",
    "# Explicit Smoothing\n",
    "for i in range(iterations):\n",
    "    v_smooth = v_smooth + alpha * L.dot(v_smooth)\n",
    "    # Taubin method to inflate the surface\n",
    "    v_smooth = v_smooth - alpha * L.dot(v_smooth)\n",
    "\n",
    "v_smooth[:,0] += 0.2\n",
    "p = mp.plot(v,f,n)\n",
    "p.add_mesh(v_smooth, f, n)"
   ]
  },
  {
   "cell_type": "markdown",
   "id": "brief-senior",
   "metadata": {},
   "source": [
    "<h4>Implicit Smoothing</h4>"
   ]
  },
  {
   "cell_type": "code",
   "execution_count": 163,
   "id": "touched-billion",
   "metadata": {},
   "outputs": [
    {
     "data": {
      "application/vnd.jupyter.widget-view+json": {
       "model_id": "b4a5a82187fd45b6bdcdbcd2e17fd000",
       "version_major": 2,
       "version_minor": 0
      },
      "text/plain": [
       "Renderer(camera=PerspectiveCamera(children=(DirectionalLight(color='white', intensity=0.6, position=(-0.016860…"
      ]
     },
     "metadata": {},
     "output_type": "display_data"
    },
    {
     "data": {
      "text/plain": [
       "1"
      ]
     },
     "execution_count": 163,
     "metadata": {},
     "output_type": "execute_result"
    }
   ],
   "source": [
    "alpha = 1.5\n",
    "L = igl.cotmatrix(v,f)\n",
    "\n",
    "A1 = (np.eye(v.shape[0]) - alpha* L)\n",
    "v_smooth = v.copy()\n",
    "\n",
    "v_smooth[:,0] = sp.linalg.spsolve(A1, v[:,0]) \n",
    "v_smooth[:,1] = sp.linalg.spsolve(A1, v[:,1]) \n",
    "v_smooth[:,2] = sp.linalg.spsolve(A1, v[:,2]) \n",
    "\n",
    "\n",
    "v_smooth[:,0] += 0.2\n",
    "q = mp.plot(v,f,n)\n",
    "q.add_mesh(v_smooth,f,n)"
   ]
  },
  {
   "cell_type": "markdown",
   "id": "independent-yesterday",
   "metadata": {},
   "source": [
    "<h3 style=\"color: #9933ff;\"> Smoothing as Optimization </h3>\n",
    "\n",
    "The goal is to calculate\n",
    "\n",
    "$$\n",
    "\\nabla_M \\tilde{p} = -2Hn = 0\n",
    "$$\n",
    "with $H = 0$\n",
    "\n",
    "However, this will give us the trivial solution. One different approach is to regularize\n",
    "\n",
    "$$\n",
    "\\min_{\\tilde{p}} \\int_M || \\nabla_M \\tilde{p}||^2 + \\omega || \\tilde{p} - p||^2\n",
    "$$\n",
    "\n",
    "Now using the Laplacian-Beltrami operator we have $\\nabla_M p = L p$, where $L = M^{-1} L_w$. Threfore,\n",
    "\n",
    "$$\n",
    "E = (L\\tilde{p})^T M (L \\tilde{p}) + \\omega (\\tilde{p} - p)^T M (\\tilde{p} - p) \\\\\n",
    "\\frac{\\partial{E}}{\\partial \\tilde{p}} = L^T M L + \\omega M (\\tilde{p} - p) = 0 \\\\\n",
    "(L^TML + \\omega M) \\tilde{p} = \\omega M p \\\\\n",
    "(L_w^T M^{-1} L_w + \\omega M) \\tilde{p} = \\omega M p \\\\\n",
    "\\tilde{p} = (L_w^T M^{-1} L_w + \\omega M)^{-1} \\omega M p\n",
    "$$"
   ]
  },
  {
   "cell_type": "code",
   "execution_count": 207,
   "id": "naughty-being",
   "metadata": {},
   "outputs": [
    {
     "data": {
      "application/vnd.jupyter.widget-view+json": {
       "model_id": "60f193e8a1c0482b8e01d26a3fe23b9c",
       "version_major": 2,
       "version_minor": 0
      },
      "text/plain": [
       "Renderer(camera=PerspectiveCamera(children=(DirectionalLight(color='white', intensity=0.6, position=(-0.016860…"
      ]
     },
     "metadata": {},
     "output_type": "display_data"
    },
    {
     "data": {
      "text/plain": [
       "1"
      ]
     },
     "execution_count": 207,
     "metadata": {},
     "output_type": "execute_result"
    }
   ],
   "source": [
    "L = igl.cotmatrix(v,f)\n",
    "M = igl.massmatrix(v, f, igl.MASSMATRIX_TYPE_VORONOI)\n",
    "Minv = sp.diags(1. / M.diagonal())\n",
    "w = 0.5\n",
    "\n",
    "A = L.T @ M @ L + w * M\n",
    "b = w * (M.dot(v))\n",
    "\n",
    "v_smooth = sp.linalg.spsolve(A,b)\n",
    "v_smooth[:,0] += 0.2\n",
    "\n",
    "r = mp.plot(v,f,n)\n",
    "r.add_mesh(v_smooth,f,n)"
   ]
  },
  {
   "cell_type": "code",
   "execution_count": null,
   "id": "focused-project",
   "metadata": {},
   "outputs": [],
   "source": []
  }
 ],
 "metadata": {
  "kernelspec": {
   "display_name": "Python 3",
   "language": "python",
   "name": "python3"
  },
  "language_info": {
   "codemirror_mode": {
    "name": "ipython",
    "version": 3
   },
   "file_extension": ".py",
   "mimetype": "text/x-python",
   "name": "python",
   "nbconvert_exporter": "python",
   "pygments_lexer": "ipython3",
   "version": "3.9.1"
  }
 },
 "nbformat": 4,
 "nbformat_minor": 5
}
